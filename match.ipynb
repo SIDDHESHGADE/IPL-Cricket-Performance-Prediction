{
 "cells": [
  {
   "cell_type": "code",
   "execution_count": 10,
   "id": "e5fa7995-21e1-47d1-9061-e34b9e35dfd0",
   "metadata": {
    "executionInfo": {
     "elapsed": 4,
     "status": "ok",
     "timestamp": 1733913536195,
     "user": {
      "displayName": "siddhesh gade",
      "userId": "17841006909022864837"
     },
     "user_tz": -330
    },
    "id": "e5fa7995-21e1-47d1-9061-e34b9e35dfd0"
   },
   "outputs": [],
   "source": [
    "import numpy as np\n",
    "import pandas as pd\n",
    "import warnings\n",
    "warnings.filterwarnings(\"ignore\")"
   ]
  },
  {
   "cell_type": "code",
   "execution_count": 11,
   "id": "354248f9-6a64-4b79-bfef-ede36daf1f2e",
   "metadata": {
    "colab": {
     "base_uri": "https://localhost:8080/",
     "height": 429
    },
    "executionInfo": {
     "elapsed": 2070,
     "status": "ok",
     "timestamp": 1733913536194,
     "user": {
      "displayName": "siddhesh gade",
      "userId": "17841006909022864837"
     },
     "user_tz": -330
    },
    "id": "354248f9-6a64-4b79-bfef-ede36daf1f2e",
    "outputId": "a09154f5-0864-4f4b-cd43-d2fd2b829ec1"
   },
   "outputs": [
    {
     "data": {
      "text/html": [
       "<div>\n",
       "<style scoped>\n",
       "    .dataframe tbody tr th:only-of-type {\n",
       "        vertical-align: middle;\n",
       "    }\n",
       "\n",
       "    .dataframe tbody tr th {\n",
       "        vertical-align: top;\n",
       "    }\n",
       "\n",
       "    .dataframe thead th {\n",
       "        text-align: right;\n",
       "    }\n",
       "</style>\n",
       "<table border=\"1\" class=\"dataframe\">\n",
       "  <thead>\n",
       "    <tr style=\"text-align: right;\">\n",
       "      <th></th>\n",
       "      <th>match_id</th>\n",
       "      <th>inning</th>\n",
       "      <th>batting_team</th>\n",
       "      <th>bowling_team</th>\n",
       "      <th>over</th>\n",
       "      <th>ball</th>\n",
       "      <th>batter</th>\n",
       "      <th>bowler</th>\n",
       "      <th>non_striker</th>\n",
       "      <th>batsman_runs</th>\n",
       "      <th>...</th>\n",
       "      <th>toss_decision</th>\n",
       "      <th>winner</th>\n",
       "      <th>result</th>\n",
       "      <th>result_margin</th>\n",
       "      <th>target_runs</th>\n",
       "      <th>target_overs</th>\n",
       "      <th>super_over</th>\n",
       "      <th>method</th>\n",
       "      <th>umpire1</th>\n",
       "      <th>umpire2</th>\n",
       "    </tr>\n",
       "  </thead>\n",
       "  <tbody>\n",
       "    <tr>\n",
       "      <th>0</th>\n",
       "      <td>335982</td>\n",
       "      <td>1</td>\n",
       "      <td>Kolkata Knight Riders</td>\n",
       "      <td>Royal Challengers Bangalore</td>\n",
       "      <td>0</td>\n",
       "      <td>1</td>\n",
       "      <td>SC Ganguly</td>\n",
       "      <td>P Kumar</td>\n",
       "      <td>BB McCullum</td>\n",
       "      <td>0</td>\n",
       "      <td>...</td>\n",
       "      <td>field</td>\n",
       "      <td>Kolkata Knight Riders</td>\n",
       "      <td>runs</td>\n",
       "      <td>140.0</td>\n",
       "      <td>223.0</td>\n",
       "      <td>20.0</td>\n",
       "      <td>N</td>\n",
       "      <td>NaN</td>\n",
       "      <td>Asad Rauf</td>\n",
       "      <td>RE Koertzen</td>\n",
       "    </tr>\n",
       "    <tr>\n",
       "      <th>1</th>\n",
       "      <td>335982</td>\n",
       "      <td>1</td>\n",
       "      <td>Kolkata Knight Riders</td>\n",
       "      <td>Royal Challengers Bangalore</td>\n",
       "      <td>0</td>\n",
       "      <td>2</td>\n",
       "      <td>BB McCullum</td>\n",
       "      <td>P Kumar</td>\n",
       "      <td>SC Ganguly</td>\n",
       "      <td>0</td>\n",
       "      <td>...</td>\n",
       "      <td>field</td>\n",
       "      <td>Kolkata Knight Riders</td>\n",
       "      <td>runs</td>\n",
       "      <td>140.0</td>\n",
       "      <td>223.0</td>\n",
       "      <td>20.0</td>\n",
       "      <td>N</td>\n",
       "      <td>NaN</td>\n",
       "      <td>Asad Rauf</td>\n",
       "      <td>RE Koertzen</td>\n",
       "    </tr>\n",
       "    <tr>\n",
       "      <th>2</th>\n",
       "      <td>335982</td>\n",
       "      <td>1</td>\n",
       "      <td>Kolkata Knight Riders</td>\n",
       "      <td>Royal Challengers Bangalore</td>\n",
       "      <td>0</td>\n",
       "      <td>3</td>\n",
       "      <td>BB McCullum</td>\n",
       "      <td>P Kumar</td>\n",
       "      <td>SC Ganguly</td>\n",
       "      <td>0</td>\n",
       "      <td>...</td>\n",
       "      <td>field</td>\n",
       "      <td>Kolkata Knight Riders</td>\n",
       "      <td>runs</td>\n",
       "      <td>140.0</td>\n",
       "      <td>223.0</td>\n",
       "      <td>20.0</td>\n",
       "      <td>N</td>\n",
       "      <td>NaN</td>\n",
       "      <td>Asad Rauf</td>\n",
       "      <td>RE Koertzen</td>\n",
       "    </tr>\n",
       "    <tr>\n",
       "      <th>3</th>\n",
       "      <td>335982</td>\n",
       "      <td>1</td>\n",
       "      <td>Kolkata Knight Riders</td>\n",
       "      <td>Royal Challengers Bangalore</td>\n",
       "      <td>0</td>\n",
       "      <td>4</td>\n",
       "      <td>BB McCullum</td>\n",
       "      <td>P Kumar</td>\n",
       "      <td>SC Ganguly</td>\n",
       "      <td>0</td>\n",
       "      <td>...</td>\n",
       "      <td>field</td>\n",
       "      <td>Kolkata Knight Riders</td>\n",
       "      <td>runs</td>\n",
       "      <td>140.0</td>\n",
       "      <td>223.0</td>\n",
       "      <td>20.0</td>\n",
       "      <td>N</td>\n",
       "      <td>NaN</td>\n",
       "      <td>Asad Rauf</td>\n",
       "      <td>RE Koertzen</td>\n",
       "    </tr>\n",
       "    <tr>\n",
       "      <th>4</th>\n",
       "      <td>335982</td>\n",
       "      <td>1</td>\n",
       "      <td>Kolkata Knight Riders</td>\n",
       "      <td>Royal Challengers Bangalore</td>\n",
       "      <td>0</td>\n",
       "      <td>5</td>\n",
       "      <td>BB McCullum</td>\n",
       "      <td>P Kumar</td>\n",
       "      <td>SC Ganguly</td>\n",
       "      <td>0</td>\n",
       "      <td>...</td>\n",
       "      <td>field</td>\n",
       "      <td>Kolkata Knight Riders</td>\n",
       "      <td>runs</td>\n",
       "      <td>140.0</td>\n",
       "      <td>223.0</td>\n",
       "      <td>20.0</td>\n",
       "      <td>N</td>\n",
       "      <td>NaN</td>\n",
       "      <td>Asad Rauf</td>\n",
       "      <td>RE Koertzen</td>\n",
       "    </tr>\n",
       "  </tbody>\n",
       "</table>\n",
       "<p>5 rows × 36 columns</p>\n",
       "</div>"
      ],
      "text/plain": [
       "   match_id  inning           batting_team                 bowling_team  over  \\\n",
       "0    335982       1  Kolkata Knight Riders  Royal Challengers Bangalore     0   \n",
       "1    335982       1  Kolkata Knight Riders  Royal Challengers Bangalore     0   \n",
       "2    335982       1  Kolkata Knight Riders  Royal Challengers Bangalore     0   \n",
       "3    335982       1  Kolkata Knight Riders  Royal Challengers Bangalore     0   \n",
       "4    335982       1  Kolkata Knight Riders  Royal Challengers Bangalore     0   \n",
       "\n",
       "   ball       batter   bowler  non_striker  batsman_runs  ...  toss_decision  \\\n",
       "0     1   SC Ganguly  P Kumar  BB McCullum             0  ...          field   \n",
       "1     2  BB McCullum  P Kumar   SC Ganguly             0  ...          field   \n",
       "2     3  BB McCullum  P Kumar   SC Ganguly             0  ...          field   \n",
       "3     4  BB McCullum  P Kumar   SC Ganguly             0  ...          field   \n",
       "4     5  BB McCullum  P Kumar   SC Ganguly             0  ...          field   \n",
       "\n",
       "                  winner result  result_margin target_runs target_overs  \\\n",
       "0  Kolkata Knight Riders   runs          140.0       223.0         20.0   \n",
       "1  Kolkata Knight Riders   runs          140.0       223.0         20.0   \n",
       "2  Kolkata Knight Riders   runs          140.0       223.0         20.0   \n",
       "3  Kolkata Knight Riders   runs          140.0       223.0         20.0   \n",
       "4  Kolkata Knight Riders   runs          140.0       223.0         20.0   \n",
       "\n",
       "  super_over method    umpire1      umpire2  \n",
       "0          N    NaN  Asad Rauf  RE Koertzen  \n",
       "1          N    NaN  Asad Rauf  RE Koertzen  \n",
       "2          N    NaN  Asad Rauf  RE Koertzen  \n",
       "3          N    NaN  Asad Rauf  RE Koertzen  \n",
       "4          N    NaN  Asad Rauf  RE Koertzen  \n",
       "\n",
       "[5 rows x 36 columns]"
      ]
     },
     "execution_count": 11,
     "metadata": {},
     "output_type": "execute_result"
    }
   ],
   "source": [
    "data= pd.read_csv(r'C:\\Personal project\\IPL\\ipl_project.csv')\n",
    "data.head()"
   ]
  },
  {
   "cell_type": "code",
   "execution_count": 12,
   "id": "VBob4-niQIpT",
   "metadata": {
    "colab": {
     "base_uri": "https://localhost:8080/",
     "height": 458
    },
    "executionInfo": {
     "elapsed": 19,
     "status": "ok",
     "timestamp": 1733913542215,
     "user": {
      "displayName": "siddhesh gade",
      "userId": "17841006909022864837"
     },
     "user_tz": -330
    },
    "id": "VBob4-niQIpT",
    "outputId": "c83a44c9-28de-4280-eb1c-520f1f7f3bd6"
   },
   "outputs": [],
   "source": [
    "# Standardized team names\n",
    "team_replacements = {\n",
    "    'Royal Challengers Bangalore': 'Royal Challengers Bengaluru',\n",
    "    'Kings XI Punjab': 'Punjab Kings',\n",
    "    'Delhi Daredevils': 'Delhi Capitals',\n",
    "    'Rising Pune Supergiants': 'Defunct Team',\n",
    "    'Deccan Chargers': 'Sunrisers Hyderabad',\n",
    "    'Kochi Tuskers Kerala': 'Defunct Team',\n",
    "    'Pune Warriors': 'Defunct Team',\n",
    "    'Gujarat Lions': 'Gujarat Titans'\n",
    "}\n",
    "\n",
    "# Apply replacements\n",
    "columns_to_replace = ['team1', 'team2', 'batting_team', 'bowling_team', 'toss_winner', 'winner']\n",
    "\n",
    "for col in columns_to_replace:\n",
    "    data[col] = data[col].replace(team_replacements)\n",
    "\n"
   ]
  },
  {
   "cell_type": "code",
   "execution_count": 13,
   "id": "7d2a8b6a",
   "metadata": {},
   "outputs": [],
   "source": [
    "# Drop rows where 'team1' or 'team2' is 'Defunct Team'\n",
    "data = data[~data['team1'].isin(['Defunct Team']) & ~data['team2'].isin(['Defunct Team'])]\n",
    "\n",
    "# Reset the index after dropping rows\n",
    "data.reset_index(drop=True, inplace=True)\n"
   ]
  },
  {
   "cell_type": "code",
   "execution_count": 14,
   "id": "58a058ba",
   "metadata": {},
   "outputs": [],
   "source": [
    "# Create a dictionary mapping incorrect names to real names\n",
    "player_name_mapping = {\n",
    "    \"SC Ganguly\": \"Sourav Ganguly\",\n",
    "    \"BB McCullum\": \"Brendon McCullum\",\n",
    "    \"RT Ponting\": \"Ricky Ponting\",\n",
    "    \"DJ Hussey\": \"David Hussey\",\n",
    "    \"MS Dhoni\": \"Mahendra Singh Dhoni\",\n",
    "    \"V Kohli\": \"Virat Kohli\",\n",
    "    \"RG Sharma\": \"Rohit Sharma\",\n",
    "    \"SK Raina\": \"Suresh Raina\",\n",
    "    \"Yuvraj Singh\": \"Yuvraj Singh\",\n",
    "    \"AB de Villiers\": \"AB de Villiers\",\n",
    "    \"CH Gayle\": \"Chris Gayle\",\n",
    "    \"KL Rahul\": \"Kannanur Lokesh Rahul\",\n",
    "    \"SPD Smith\": \"Steve Smith\",\n",
    "    \"JJ Bumrah\": \"Jasprit Bumrah\",\n",
    "    \"R Ashwin\": \"Ravichandran Ashwin\",\n",
    "    \"B Kumar\": \"Bhuvneshwar Kumar\",\n",
    "    \"JC Buttler\": \"Jos Buttler\",\n",
    "    \"DJ Bravo\": \"Dwayne Bravo\",\n",
    "    \"M Morkel\": \"Morne Morkel\",\n",
    "    \"SP Narine\": \"Sunil Narine\",\n",
    "    \"R Jadeja\": \"Ravindra Jadeja\",\n",
    "    \"TG Southee\": \"Tim Southee\",\n",
    "    \"MP Stoinis\": \"Marcus Stoinis\",\n",
    "    \"AD Russell\": \"Andre Russell\",\n",
    "    \"RR Pant\": \"Rishabh Pant\",\n",
    "    \"Rashid Khan\": \"Rashid Khan\",\n",
    "    \"BA Stokes\": \"Ben Stokes\",\n",
    "    \"JM Bairstow\": \"Jonny Bairstow\",\n",
    "    \"NT Ellis\": \"Nathan Ellis\",\n",
    "    \"SN Thakur\": \"Shardul Thakur\",\n",
    "    \"Mohammed Shami\": \"Mohammed Shami\",\n",
    "    \"I Sharma\": \"Ishant Sharma\",\n",
    "    \"Kuldeep Yadav\": \"Kuldeep Yadav\",\n",
    "    \"Washington Sundar\": \"Washington Sundar\",\n",
    "    \"DM Bravo\": \"Darren Bravo\",\n",
    "    \"E Lewis\": \"Evin Lewis\",\n",
    "    \"Q de Kock\": \"Quinton de Kock\",\n",
    "    \"P Shaw\": \"Prithvi Shaw\",\n",
    "    \"S Dube\": \"Shivam Dube\",\n",
    "    \"P Krishna\": \"Prasidh Krishna\",\n",
    "    \"R Parag\": \"Riyan Parag\",\n",
    "    \"M Siraj\": \"Mohammed Siraj\",\n",
    "    \"K Rabada\": \"Kagiso Rabada\",\n",
    "    \"T Boult\": \"Trent Boult\",\n",
    "    \"FA Allen\": \"Fabian Allen\",\n",
    "    \"GHS Garton\": \"George Garton\",\n",
    "    \"KA Jamieson\": \"Kyle Jamieson\",\n",
    "    \"V Shankar\": \"Vijay Shankar\",\n",
    "    \"R Bishnoi\": \"Ravi Bishnoi\",\n",
    "    \"A Nortje\": \"Anrich Nortje\",\n",
    "    \"D Padikkal\": \"Devdutt Padikkal\",\n",
    "    \"PBB Rajapaksa\": \"Bhanuka Rajapaksa\",\n",
    "    \"SD Hope\": \"Shai Hope\",\n",
    "    \"N Pooran\": \"Nicholas Pooran\",\n",
    "    \"DG Nalkande\": \"Darshan Nalkande\",\n",
    "    \"A Madhwal\": \"Akash Madhwal\",\n",
    "}\n",
    "\n",
    "# Apply replacement\n",
    "columns_to_replace = ['batter', 'bowler', 'non_striker']\n",
    "for col in columns_to_replace:\n",
    "    data[col] = data[col].replace(player_name_mapping)"
   ]
  },
  {
   "cell_type": "code",
   "execution_count": 15,
   "id": "0da25143-4f2a-41b7-af13-b05bb099bfe6",
   "metadata": {
    "colab": {
     "base_uri": "https://localhost:8080/"
    },
    "executionInfo": {
     "elapsed": 16,
     "status": "ok",
     "timestamp": 1733913542215,
     "user": {
      "displayName": "siddhesh gade",
      "userId": "17841006909022864837"
     },
     "user_tz": -330
    },
    "id": "0da25143-4f2a-41b7-af13-b05bb099bfe6",
    "outputId": "dea9797e-72bb-4879-c493-c9c347b827a1"
   },
   "outputs": [
    {
     "data": {
      "text/plain": [
       "(243875, 36)"
      ]
     },
     "execution_count": 15,
     "metadata": {},
     "output_type": "execute_result"
    }
   ],
   "source": [
    "data.shape"
   ]
  },
  {
   "cell_type": "code",
   "execution_count": 16,
   "id": "01cce330-d260-4f3f-bcd4-ed94777c9776",
   "metadata": {
    "colab": {
     "base_uri": "https://localhost:8080/"
    },
    "executionInfo": {
     "elapsed": 12,
     "status": "ok",
     "timestamp": 1733913542216,
     "user": {
      "displayName": "siddhesh gade",
      "userId": "17841006909022864837"
     },
     "user_tz": -330
    },
    "id": "01cce330-d260-4f3f-bcd4-ed94777c9776",
    "outputId": "6fcece72-efdb-47a9-cd72-1baa311433c0"
   },
   "outputs": [
    {
     "data": {
      "text/plain": [
       "np.int64(1187969)"
      ]
     },
     "execution_count": 16,
     "metadata": {},
     "output_type": "execute_result"
    }
   ],
   "source": [
    "data.isna().sum().sum()"
   ]
  },
  {
   "cell_type": "code",
   "execution_count": 17,
   "id": "cfc075b8-9a42-4fa9-95f4-cee879edf9b8",
   "metadata": {
    "executionInfo": {
     "elapsed": 10,
     "status": "ok",
     "timestamp": 1733913542216,
     "user": {
      "displayName": "siddhesh gade",
      "userId": "17841006909022864837"
     },
     "user_tz": -330
    },
    "id": "cfc075b8-9a42-4fa9-95f4-cee879edf9b8"
   },
   "outputs": [],
   "source": [
    "cat_col=[col for col in data.columns if data[col].dtype==\"object\"]"
   ]
  },
  {
   "cell_type": "code",
   "execution_count": 18,
   "id": "7b7ce454-38e9-4361-bb10-f69a3be56474",
   "metadata": {
    "executionInfo": {
     "elapsed": 592,
     "status": "ok",
     "timestamp": 1733913542798,
     "user": {
      "displayName": "siddhesh gade",
      "userId": "17841006909022864837"
     },
     "user_tz": -330
    },
    "id": "7b7ce454-38e9-4361-bb10-f69a3be56474"
   },
   "outputs": [],
   "source": [
    "from sklearn.impute import SimpleImputer\n",
    "si = SimpleImputer(strategy=\"constant\", fill_value=\"No_information\")\n",
    "data[cat_col] = si.fit_transform(data[cat_col])"
   ]
  },
  {
   "cell_type": "code",
   "execution_count": 19,
   "id": "22b1ba9d-6d0c-4d45-b047-d947d131d202",
   "metadata": {
    "colab": {
     "base_uri": "https://localhost:8080/"
    },
    "executionInfo": {
     "elapsed": 6,
     "status": "ok",
     "timestamp": 1733913542799,
     "user": {
      "displayName": "siddhesh gade",
      "userId": "17841006909022864837"
     },
     "user_tz": -330
    },
    "id": "22b1ba9d-6d0c-4d45-b047-d947d131d202",
    "outputId": "1e2690df-3930-494f-89fc-3d73dd3f1536"
   },
   "outputs": [
    {
     "data": {
      "text/plain": [
       "np.int64(4553)"
      ]
     },
     "execution_count": 19,
     "metadata": {},
     "output_type": "execute_result"
    }
   ],
   "source": [
    "data.isnull().sum().sum()"
   ]
  },
  {
   "cell_type": "code",
   "execution_count": 20,
   "id": "f3cab4b5-67a3-47a0-a53d-57917019e7e2",
   "metadata": {
    "colab": {
     "base_uri": "https://localhost:8080/",
     "height": 279
    },
    "executionInfo": {
     "elapsed": 701,
     "status": "ok",
     "timestamp": 1733913543495,
     "user": {
      "displayName": "siddhesh gade",
      "userId": "17841006909022864837"
     },
     "user_tz": -330
    },
    "id": "f3cab4b5-67a3-47a0-a53d-57917019e7e2",
    "outputId": "756dc4c6-8c4a-41e4-d081-e01bd5dbf111"
   },
   "outputs": [
    {
     "data": {
      "text/html": [
       "<div>\n",
       "<style scoped>\n",
       "    .dataframe tbody tr th:only-of-type {\n",
       "        vertical-align: middle;\n",
       "    }\n",
       "\n",
       "    .dataframe tbody tr th {\n",
       "        vertical-align: top;\n",
       "    }\n",
       "\n",
       "    .dataframe thead th {\n",
       "        text-align: right;\n",
       "    }\n",
       "</style>\n",
       "<table border=\"1\" class=\"dataframe\">\n",
       "  <thead>\n",
       "    <tr style=\"text-align: right;\">\n",
       "      <th></th>\n",
       "      <th>match_id</th>\n",
       "      <th>inning</th>\n",
       "      <th>batting_team</th>\n",
       "      <th>bowling_team</th>\n",
       "      <th>over</th>\n",
       "      <th>ball</th>\n",
       "      <th>batter</th>\n",
       "      <th>bowler</th>\n",
       "      <th>non_striker</th>\n",
       "      <th>batsman_runs</th>\n",
       "      <th>...</th>\n",
       "      <th>toss_decision</th>\n",
       "      <th>winner</th>\n",
       "      <th>result</th>\n",
       "      <th>result_margin</th>\n",
       "      <th>target_runs</th>\n",
       "      <th>target_overs</th>\n",
       "      <th>super_over</th>\n",
       "      <th>method</th>\n",
       "      <th>umpire1</th>\n",
       "      <th>umpire2</th>\n",
       "    </tr>\n",
       "  </thead>\n",
       "  <tbody>\n",
       "    <tr>\n",
       "      <th>26419</th>\n",
       "      <td>392237</td>\n",
       "      <td>1</td>\n",
       "      <td>Delhi Capitals</td>\n",
       "      <td>Sunrisers Hyderabad</td>\n",
       "      <td>7</td>\n",
       "      <td>3</td>\n",
       "      <td>V Sehwag</td>\n",
       "      <td>PP Ojha</td>\n",
       "      <td>TM Dilshan</td>\n",
       "      <td>4</td>\n",
       "      <td>...</td>\n",
       "      <td>field</td>\n",
       "      <td>Sunrisers Hyderabad</td>\n",
       "      <td>wickets</td>\n",
       "      <td>6.0</td>\n",
       "      <td>154.0</td>\n",
       "      <td>20.0</td>\n",
       "      <td>N</td>\n",
       "      <td>No_information</td>\n",
       "      <td>BR Doctrove</td>\n",
       "      <td>DJ Harper</td>\n",
       "    </tr>\n",
       "    <tr>\n",
       "      <th>4238</th>\n",
       "      <td>335999</td>\n",
       "      <td>2</td>\n",
       "      <td>Punjab Kings</td>\n",
       "      <td>Sunrisers Hyderabad</td>\n",
       "      <td>15</td>\n",
       "      <td>3</td>\n",
       "      <td>DPMD Jayawardene</td>\n",
       "      <td>RP Singh</td>\n",
       "      <td>SE Marsh</td>\n",
       "      <td>2</td>\n",
       "      <td>...</td>\n",
       "      <td>field</td>\n",
       "      <td>Punjab Kings</td>\n",
       "      <td>wickets</td>\n",
       "      <td>7.0</td>\n",
       "      <td>165.0</td>\n",
       "      <td>20.0</td>\n",
       "      <td>N</td>\n",
       "      <td>No_information</td>\n",
       "      <td>BR Doctrove</td>\n",
       "      <td>RB Tiffin</td>\n",
       "    </tr>\n",
       "    <tr>\n",
       "      <th>28320</th>\n",
       "      <td>419110</td>\n",
       "      <td>2</td>\n",
       "      <td>Chennai Super Kings</td>\n",
       "      <td>Sunrisers Hyderabad</td>\n",
       "      <td>16</td>\n",
       "      <td>1</td>\n",
       "      <td>L Balaji</td>\n",
       "      <td>A Symonds</td>\n",
       "      <td>JA Morkel</td>\n",
       "      <td>1</td>\n",
       "      <td>...</td>\n",
       "      <td>bat</td>\n",
       "      <td>Sunrisers Hyderabad</td>\n",
       "      <td>runs</td>\n",
       "      <td>31.0</td>\n",
       "      <td>191.0</td>\n",
       "      <td>20.0</td>\n",
       "      <td>N</td>\n",
       "      <td>No_information</td>\n",
       "      <td>K Hariharan</td>\n",
       "      <td>DJ Harper</td>\n",
       "    </tr>\n",
       "  </tbody>\n",
       "</table>\n",
       "<p>3 rows × 36 columns</p>\n",
       "</div>"
      ],
      "text/plain": [
       "       match_id  inning         batting_team         bowling_team  over  ball  \\\n",
       "26419    392237       1       Delhi Capitals  Sunrisers Hyderabad     7     3   \n",
       "4238     335999       2         Punjab Kings  Sunrisers Hyderabad    15     3   \n",
       "28320    419110       2  Chennai Super Kings  Sunrisers Hyderabad    16     1   \n",
       "\n",
       "                 batter     bowler non_striker  batsman_runs  ...  \\\n",
       "26419          V Sehwag    PP Ojha  TM Dilshan             4  ...   \n",
       "4238   DPMD Jayawardene   RP Singh    SE Marsh             2  ...   \n",
       "28320          L Balaji  A Symonds   JA Morkel             1  ...   \n",
       "\n",
       "       toss_decision               winner   result  result_margin target_runs  \\\n",
       "26419          field  Sunrisers Hyderabad  wickets            6.0       154.0   \n",
       "4238           field         Punjab Kings  wickets            7.0       165.0   \n",
       "28320            bat  Sunrisers Hyderabad     runs           31.0       191.0   \n",
       "\n",
       "      target_overs super_over          method      umpire1    umpire2  \n",
       "26419         20.0          N  No_information  BR Doctrove  DJ Harper  \n",
       "4238          20.0          N  No_information  BR Doctrove  RB Tiffin  \n",
       "28320         20.0          N  No_information  K Hariharan  DJ Harper  \n",
       "\n",
       "[3 rows x 36 columns]"
      ]
     },
     "execution_count": 20,
     "metadata": {},
     "output_type": "execute_result"
    }
   ],
   "source": [
    "data.sample(3)"
   ]
  },
  {
   "cell_type": "code",
   "execution_count": 21,
   "id": "6ad44219-58cd-4740-8c9b-a9ff79292cf5",
   "metadata": {
    "colab": {
     "base_uri": "https://localhost:8080/"
    },
    "executionInfo": {
     "elapsed": 18,
     "status": "ok",
     "timestamp": 1733913543496,
     "user": {
      "displayName": "siddhesh gade",
      "userId": "17841006909022864837"
     },
     "user_tz": -330
    },
    "id": "6ad44219-58cd-4740-8c9b-a9ff79292cf5",
    "outputId": "12809e1c-5abc-4d63-d374-75e5ef74f1aa"
   },
   "outputs": [
    {
     "data": {
      "text/plain": [
       "Index(['match_id', 'inning', 'batting_team', 'bowling_team', 'over', 'ball',\n",
       "       'batter', 'bowler', 'non_striker', 'batsman_runs', 'extra_runs',\n",
       "       'total_runs', 'extras_type', 'is_wicket', 'player_dismissed',\n",
       "       'dismissal_kind', 'fielder', 'season', 'city', 'date', 'match_type',\n",
       "       'player_of_match', 'venue', 'team1', 'team2', 'toss_winner',\n",
       "       'toss_decision', 'winner', 'result', 'result_margin', 'target_runs',\n",
       "       'target_overs', 'super_over', 'method', 'umpire1', 'umpire2'],\n",
       "      dtype='object')"
      ]
     },
     "execution_count": 21,
     "metadata": {},
     "output_type": "execute_result"
    }
   ],
   "source": [
    "data.columns"
   ]
  },
  {
   "cell_type": "code",
   "execution_count": 22,
   "id": "LhuCnfBBsXwf",
   "metadata": {
    "colab": {
     "base_uri": "https://localhost:8080/"
    },
    "executionInfo": {
     "elapsed": 14,
     "status": "ok",
     "timestamp": 1733913543496,
     "user": {
      "displayName": "siddhesh gade",
      "userId": "17841006909022864837"
     },
     "user_tz": -330
    },
    "id": "LhuCnfBBsXwf",
    "outputId": "bd1df317-68de-49d5-a854-92c3d1a38d61"
   },
   "outputs": [
    {
     "data": {
      "text/plain": [
       "array(['2007/08', '2009', '2009/10', '2011', 2011, 2012, 2013, 2014, 2015,\n",
       "       2016, 2017, 2018, '2018', '2019', '2020/21', '2021', 2021, 2022,\n",
       "       2023, 2024], dtype=object)"
      ]
     },
     "execution_count": 22,
     "metadata": {},
     "output_type": "execute_result"
    }
   ],
   "source": [
    "data['season'].unique()"
   ]
  },
  {
   "cell_type": "code",
   "execution_count": 23,
   "id": "7bbeogRksjHE",
   "metadata": {
    "executionInfo": {
     "elapsed": 12,
     "status": "ok",
     "timestamp": 1733913543496,
     "user": {
      "displayName": "siddhesh gade",
      "userId": "17841006909022864837"
     },
     "user_tz": -330
    },
    "id": "7bbeogRksjHE"
   },
   "outputs": [],
   "source": [
    "data['season']=data['season'].map({'2007/08':'2008', '2009':'2009', '2009/10':'2010', '2011':'2011', 2011:'2011', 2012:'2012',\n",
    "                                  2013:'2013', 2014:'2014', 2015:'2015',2016:'2016', 2017:'2017',2018:'2018',\n",
    "                                   '2018':'2018','2019':'2019', '2020/21':'2020', '2021':'2021', 2021:'2021',\n",
    "                                   2022:'2022',2023:'2023', 2024:'2024'})"
   ]
  },
  {
   "cell_type": "code",
   "execution_count": 24,
   "id": "_FBY2a0xuVRr",
   "metadata": {
    "colab": {
     "base_uri": "https://localhost:8080/"
    },
    "executionInfo": {
     "elapsed": 11,
     "status": "ok",
     "timestamp": 1733913543496,
     "user": {
      "displayName": "siddhesh gade",
      "userId": "17841006909022864837"
     },
     "user_tz": -330
    },
    "id": "_FBY2a0xuVRr",
    "outputId": "2576ac34-74c5-412b-dab4-b9b9a81caff1"
   },
   "outputs": [
    {
     "name": "stdout",
     "output_type": "stream",
     "text": [
      "['2008' '2009' '2010' '2011' '2012' '2013' '2014' '2015' '2016' '2017'\n",
      " '2018' '2019' '2020' '2021' '2022' '2023' '2024']\n"
     ]
    }
   ],
   "source": [
    "data['season'].astype(int) # convert data series into int\n",
    "print(data['season'].unique())"
   ]
  },
  {
   "cell_type": "code",
   "execution_count": 25,
   "id": "u_TFaca6y-Mh",
   "metadata": {
    "executionInfo": {
     "elapsed": 8,
     "status": "ok",
     "timestamp": 1733913543496,
     "user": {
      "displayName": "siddhesh gade",
      "userId": "17841006909022864837"
     },
     "user_tz": -330
    },
    "id": "u_TFaca6y-Mh"
   },
   "outputs": [],
   "source": [
    "# agg_data = data.groupby(['batter', 'bowler','non_striker','venue','season','team1','team2']).agg(\n",
    "#     total_runs=('batsman_runs', 'sum'),  # Sum of runs\n",
    "#     balls_count=('ball', 'size'), # Count of balls faced (number of rows)\n",
    "\n",
    "\n",
    "# ).reset_index()\n",
    "\n",
    "# agg_data['strike_rate'] =round((agg_data['total_runs'] / agg_data['balls_count']) * 100,2)"
   ]
  },
  {
   "cell_type": "code",
   "execution_count": 26,
   "id": "ucA2F18lpO28",
   "metadata": {
    "executionInfo": {
     "elapsed": 4896,
     "status": "ok",
     "timestamp": 1733913548384,
     "user": {
      "displayName": "siddhesh gade",
      "userId": "17841006909022864837"
     },
     "user_tz": -330
    },
    "id": "ucA2F18lpO28"
   },
   "outputs": [],
   "source": [
    "# Group by specified columns and calculate required metrics\n",
    "agg_data = data.groupby(['batter', 'bowler', 'non_striker', 'venue', 'season', 'team1', 'team2']).agg(\n",
    "    total_runs=('batsman_runs', 'sum'),  # Sum of runs by batter\n",
    "    balls_count=('ball', 'count'),      # Count of balls faced by batter\n",
    "    wickets_by_bowler=('is_wicket', lambda x: x.sum()),  # Count of wickets taken by bowler\n",
    ").reset_index()\n",
    "\n",
    "# Calculate strike rate (avoid division by zero)\n",
    "agg_data['strike_rate'] = (agg_data['total_runs'] / agg_data['balls_count'] * 100).fillna(0)"
   ]
  },
  {
   "cell_type": "code",
   "execution_count": 27,
   "id": "52c27265-2ff0-42bf-88a6-57ecdbb7a5e9",
   "metadata": {
    "executionInfo": {
     "elapsed": 40,
     "status": "ok",
     "timestamp": 1733913548384,
     "user": {
      "displayName": "siddhesh gade",
      "userId": "17841006909022864837"
     },
     "user_tz": -330
    },
    "id": "52c27265-2ff0-42bf-88a6-57ecdbb7a5e9"
   },
   "outputs": [],
   "source": [
    "df=pd.DataFrame(agg_data)"
   ]
  },
  {
   "cell_type": "code",
   "execution_count": 28,
   "id": "c2e86e4d-55b8-4ad9-b429-8f721bf9f921",
   "metadata": {
    "colab": {
     "base_uri": "https://localhost:8080/",
     "height": 293
    },
    "executionInfo": {
     "elapsed": 39,
     "status": "ok",
     "timestamp": 1733913548384,
     "user": {
      "displayName": "siddhesh gade",
      "userId": "17841006909022864837"
     },
     "user_tz": -330
    },
    "id": "c2e86e4d-55b8-4ad9-b429-8f721bf9f921",
    "outputId": "e359a0fc-966a-4829-c0bc-a5b23216ed0a"
   },
   "outputs": [
    {
     "data": {
      "text/html": [
       "<div>\n",
       "<style scoped>\n",
       "    .dataframe tbody tr th:only-of-type {\n",
       "        vertical-align: middle;\n",
       "    }\n",
       "\n",
       "    .dataframe tbody tr th {\n",
       "        vertical-align: top;\n",
       "    }\n",
       "\n",
       "    .dataframe thead th {\n",
       "        text-align: right;\n",
       "    }\n",
       "</style>\n",
       "<table border=\"1\" class=\"dataframe\">\n",
       "  <thead>\n",
       "    <tr style=\"text-align: right;\">\n",
       "      <th></th>\n",
       "      <th>batter</th>\n",
       "      <th>bowler</th>\n",
       "      <th>non_striker</th>\n",
       "      <th>venue</th>\n",
       "      <th>season</th>\n",
       "      <th>team1</th>\n",
       "      <th>team2</th>\n",
       "      <th>total_runs</th>\n",
       "      <th>balls_count</th>\n",
       "      <th>wickets_by_bowler</th>\n",
       "      <th>strike_rate</th>\n",
       "    </tr>\n",
       "  </thead>\n",
       "  <tbody>\n",
       "    <tr>\n",
       "      <th>63564</th>\n",
       "      <td>YBK Jaiswal</td>\n",
       "      <td>KV Sharma</td>\n",
       "      <td>SV Samson</td>\n",
       "      <td>Narendra Modi Stadium, Ahmedabad</td>\n",
       "      <td>2024</td>\n",
       "      <td>Royal Challengers Bengaluru</td>\n",
       "      <td>Rajasthan Royals</td>\n",
       "      <td>3</td>\n",
       "      <td>3</td>\n",
       "      <td>0</td>\n",
       "      <td>100.000000</td>\n",
       "    </tr>\n",
       "    <tr>\n",
       "      <th>15284</th>\n",
       "      <td>EJG Morgan</td>\n",
       "      <td>Washington Sundar</td>\n",
       "      <td>Andre Russell</td>\n",
       "      <td>Sharjah Cricket Stadium</td>\n",
       "      <td>2020</td>\n",
       "      <td>Royal Challengers Bengaluru</td>\n",
       "      <td>Kolkata Knight Riders</td>\n",
       "      <td>0</td>\n",
       "      <td>1</td>\n",
       "      <td>1</td>\n",
       "      <td>0.000000</td>\n",
       "    </tr>\n",
       "    <tr>\n",
       "      <th>36076</th>\n",
       "      <td>Mohammad Hafeez</td>\n",
       "      <td>PP Ojha</td>\n",
       "      <td>David Hussey</td>\n",
       "      <td>Eden Gardens</td>\n",
       "      <td>2008</td>\n",
       "      <td>Kolkata Knight Riders</td>\n",
       "      <td>Sunrisers Hyderabad</td>\n",
       "      <td>1</td>\n",
       "      <td>4</td>\n",
       "      <td>1</td>\n",
       "      <td>25.000000</td>\n",
       "    </tr>\n",
       "    <tr>\n",
       "      <th>39025</th>\n",
       "      <td>PC Valthaty</td>\n",
       "      <td>JH Kallis</td>\n",
       "      <td>AC Gilchrist</td>\n",
       "      <td>Punjab Cricket Association Stadium, Mohali</td>\n",
       "      <td>2012</td>\n",
       "      <td>Punjab Kings</td>\n",
       "      <td>Kolkata Knight Riders</td>\n",
       "      <td>2</td>\n",
       "      <td>2</td>\n",
       "      <td>0</td>\n",
       "      <td>100.000000</td>\n",
       "    </tr>\n",
       "    <tr>\n",
       "      <th>41065</th>\n",
       "      <td>R Dravid</td>\n",
       "      <td>R Vinay Kumar</td>\n",
       "      <td>AM Rahane</td>\n",
       "      <td>Sawai Mansingh Stadium</td>\n",
       "      <td>2012</td>\n",
       "      <td>Rajasthan Royals</td>\n",
       "      <td>Royal Challengers Bengaluru</td>\n",
       "      <td>22</td>\n",
       "      <td>12</td>\n",
       "      <td>0</td>\n",
       "      <td>183.333333</td>\n",
       "    </tr>\n",
       "  </tbody>\n",
       "</table>\n",
       "</div>"
      ],
      "text/plain": [
       "                batter             bowler    non_striker  \\\n",
       "63564      YBK Jaiswal          KV Sharma      SV Samson   \n",
       "15284       EJG Morgan  Washington Sundar  Andre Russell   \n",
       "36076  Mohammad Hafeez            PP Ojha   David Hussey   \n",
       "39025      PC Valthaty          JH Kallis   AC Gilchrist   \n",
       "41065         R Dravid      R Vinay Kumar      AM Rahane   \n",
       "\n",
       "                                            venue season  \\\n",
       "63564            Narendra Modi Stadium, Ahmedabad   2024   \n",
       "15284                     Sharjah Cricket Stadium   2020   \n",
       "36076                                Eden Gardens   2008   \n",
       "39025  Punjab Cricket Association Stadium, Mohali   2012   \n",
       "41065                      Sawai Mansingh Stadium   2012   \n",
       "\n",
       "                             team1                        team2  total_runs  \\\n",
       "63564  Royal Challengers Bengaluru             Rajasthan Royals           3   \n",
       "15284  Royal Challengers Bengaluru        Kolkata Knight Riders           0   \n",
       "36076        Kolkata Knight Riders          Sunrisers Hyderabad           1   \n",
       "39025                 Punjab Kings        Kolkata Knight Riders           2   \n",
       "41065             Rajasthan Royals  Royal Challengers Bengaluru          22   \n",
       "\n",
       "       balls_count  wickets_by_bowler  strike_rate  \n",
       "63564            3                  0   100.000000  \n",
       "15284            1                  1     0.000000  \n",
       "36076            4                  1    25.000000  \n",
       "39025            2                  0   100.000000  \n",
       "41065           12                  0   183.333333  "
      ]
     },
     "execution_count": 28,
     "metadata": {},
     "output_type": "execute_result"
    }
   ],
   "source": [
    "df.sample(5)"
   ]
  },
  {
   "cell_type": "code",
   "execution_count": 29,
   "id": "LbwuX7IDG3kj",
   "metadata": {
    "colab": {
     "base_uri": "https://localhost:8080/"
    },
    "executionInfo": {
     "elapsed": 37,
     "status": "ok",
     "timestamp": 1733913548384,
     "user": {
      "displayName": "siddhesh gade",
      "userId": "17841006909022864837"
     },
     "user_tz": -330
    },
    "id": "LbwuX7IDG3kj",
    "outputId": "4b938ae0-9cbe-4ed9-cb6b-83243115bb42"
   },
   "outputs": [
    {
     "name": "stdout",
     "output_type": "stream",
     "text": [
      "<class 'pandas.core.frame.DataFrame'>\n",
      "RangeIndex: 64924 entries, 0 to 64923\n",
      "Data columns (total 11 columns):\n",
      " #   Column             Non-Null Count  Dtype  \n",
      "---  ------             --------------  -----  \n",
      " 0   batter             64924 non-null  object \n",
      " 1   bowler             64924 non-null  object \n",
      " 2   non_striker        64924 non-null  object \n",
      " 3   venue              64924 non-null  object \n",
      " 4   season             64924 non-null  object \n",
      " 5   team1              64924 non-null  object \n",
      " 6   team2              64924 non-null  object \n",
      " 7   total_runs         64924 non-null  int64  \n",
      " 8   balls_count        64924 non-null  int64  \n",
      " 9   wickets_by_bowler  64924 non-null  int64  \n",
      " 10  strike_rate        64924 non-null  float64\n",
      "dtypes: float64(1), int64(3), object(7)\n",
      "memory usage: 5.4+ MB\n"
     ]
    }
   ],
   "source": [
    "df.info()"
   ]
  },
  {
   "cell_type": "code",
   "execution_count": 30,
   "id": "ae53af8f-b419-4abf-afaf-6d35f4807b88",
   "metadata": {
    "colab": {
     "base_uri": "https://localhost:8080/"
    },
    "executionInfo": {
     "elapsed": 32,
     "status": "ok",
     "timestamp": 1733913548384,
     "user": {
      "displayName": "siddhesh gade",
      "userId": "17841006909022864837"
     },
     "user_tz": -330
    },
    "id": "ae53af8f-b419-4abf-afaf-6d35f4807b88",
    "outputId": "2596d448-42f8-4793-ba4b-20b51b2f49ef"
   },
   "outputs": [
    {
     "data": {
      "text/plain": [
       "np.int64(0)"
      ]
     },
     "execution_count": 30,
     "metadata": {},
     "output_type": "execute_result"
    }
   ],
   "source": [
    "df.isna().sum().sum()"
   ]
  },
  {
   "cell_type": "code",
   "execution_count": 31,
   "id": "b8cd2535-f4d7-49fd-8a5a-dad64fe8cf3a",
   "metadata": {
    "colab": {
     "base_uri": "https://localhost:8080/"
    },
    "executionInfo": {
     "elapsed": 29,
     "status": "ok",
     "timestamp": 1733913548385,
     "user": {
      "displayName": "siddhesh gade",
      "userId": "17841006909022864837"
     },
     "user_tz": -330
    },
    "id": "b8cd2535-f4d7-49fd-8a5a-dad64fe8cf3a",
    "outputId": "e6f4def3-b8d2-4ff6-c1c4-6995ec5bb45d"
   },
   "outputs": [
    {
     "data": {
      "text/plain": [
       "np.int64(0)"
      ]
     },
     "execution_count": 31,
     "metadata": {},
     "output_type": "execute_result"
    }
   ],
   "source": [
    "df.duplicated().sum()"
   ]
  },
  {
   "cell_type": "code",
   "execution_count": 32,
   "id": "23bd744c-2b9c-42b5-8c9d-271341233c3d",
   "metadata": {
    "colab": {
     "base_uri": "https://localhost:8080/",
     "height": 300
    },
    "executionInfo": {
     "elapsed": 26,
     "status": "ok",
     "timestamp": 1733913548385,
     "user": {
      "displayName": "siddhesh gade",
      "userId": "17841006909022864837"
     },
     "user_tz": -330
    },
    "id": "23bd744c-2b9c-42b5-8c9d-271341233c3d",
    "outputId": "7102ab31-a217-439d-851c-bce9b3de4997"
   },
   "outputs": [
    {
     "data": {
      "text/html": [
       "<div>\n",
       "<style scoped>\n",
       "    .dataframe tbody tr th:only-of-type {\n",
       "        vertical-align: middle;\n",
       "    }\n",
       "\n",
       "    .dataframe tbody tr th {\n",
       "        vertical-align: top;\n",
       "    }\n",
       "\n",
       "    .dataframe thead th {\n",
       "        text-align: right;\n",
       "    }\n",
       "</style>\n",
       "<table border=\"1\" class=\"dataframe\">\n",
       "  <thead>\n",
       "    <tr style=\"text-align: right;\">\n",
       "      <th></th>\n",
       "      <th>total_runs</th>\n",
       "      <th>balls_count</th>\n",
       "      <th>wickets_by_bowler</th>\n",
       "      <th>strike_rate</th>\n",
       "    </tr>\n",
       "  </thead>\n",
       "  <tbody>\n",
       "    <tr>\n",
       "      <th>count</th>\n",
       "      <td>64924.000000</td>\n",
       "      <td>64924.000000</td>\n",
       "      <td>64924.000000</td>\n",
       "      <td>64924.000000</td>\n",
       "    </tr>\n",
       "    <tr>\n",
       "      <th>mean</th>\n",
       "      <td>4.777555</td>\n",
       "      <td>3.756315</td>\n",
       "      <td>0.186741</td>\n",
       "      <td>116.984799</td>\n",
       "    </tr>\n",
       "    <tr>\n",
       "      <th>std</th>\n",
       "      <td>4.954935</td>\n",
       "      <td>2.494032</td>\n",
       "      <td>0.390102</td>\n",
       "      <td>90.394299</td>\n",
       "    </tr>\n",
       "    <tr>\n",
       "      <th>min</th>\n",
       "      <td>0.000000</td>\n",
       "      <td>1.000000</td>\n",
       "      <td>0.000000</td>\n",
       "      <td>0.000000</td>\n",
       "    </tr>\n",
       "    <tr>\n",
       "      <th>25%</th>\n",
       "      <td>1.000000</td>\n",
       "      <td>2.000000</td>\n",
       "      <td>0.000000</td>\n",
       "      <td>50.000000</td>\n",
       "    </tr>\n",
       "    <tr>\n",
       "      <th>50%</th>\n",
       "      <td>3.000000</td>\n",
       "      <td>3.000000</td>\n",
       "      <td>0.000000</td>\n",
       "      <td>100.000000</td>\n",
       "    </tr>\n",
       "    <tr>\n",
       "      <th>75%</th>\n",
       "      <td>7.000000</td>\n",
       "      <td>5.000000</td>\n",
       "      <td>0.000000</td>\n",
       "      <td>166.666667</td>\n",
       "    </tr>\n",
       "    <tr>\n",
       "      <th>max</th>\n",
       "      <td>45.000000</td>\n",
       "      <td>20.000000</td>\n",
       "      <td>2.000000</td>\n",
       "      <td>600.000000</td>\n",
       "    </tr>\n",
       "  </tbody>\n",
       "</table>\n",
       "</div>"
      ],
      "text/plain": [
       "         total_runs   balls_count  wickets_by_bowler   strike_rate\n",
       "count  64924.000000  64924.000000       64924.000000  64924.000000\n",
       "mean       4.777555      3.756315           0.186741    116.984799\n",
       "std        4.954935      2.494032           0.390102     90.394299\n",
       "min        0.000000      1.000000           0.000000      0.000000\n",
       "25%        1.000000      2.000000           0.000000     50.000000\n",
       "50%        3.000000      3.000000           0.000000    100.000000\n",
       "75%        7.000000      5.000000           0.000000    166.666667\n",
       "max       45.000000     20.000000           2.000000    600.000000"
      ]
     },
     "execution_count": 32,
     "metadata": {},
     "output_type": "execute_result"
    }
   ],
   "source": [
    "df.describe()"
   ]
  },
  {
   "cell_type": "code",
   "execution_count": 33,
   "id": "jLvodGQaej9t",
   "metadata": {
    "colab": {
     "base_uri": "https://localhost:8080/"
    },
    "executionInfo": {
     "elapsed": 24,
     "status": "ok",
     "timestamp": 1733913548385,
     "user": {
      "displayName": "siddhesh gade",
      "userId": "17841006909022864837"
     },
     "user_tz": -330
    },
    "id": "jLvodGQaej9t",
    "outputId": "3686437b-de53-4ab0-a01c-621c519a2080"
   },
   "outputs": [
    {
     "data": {
      "text/plain": [
       "Index(['batter', 'bowler', 'non_striker', 'venue', 'season', 'team1', 'team2',\n",
       "       'total_runs', 'balls_count', 'wickets_by_bowler', 'strike_rate'],\n",
       "      dtype='object')"
      ]
     },
     "execution_count": 33,
     "metadata": {},
     "output_type": "execute_result"
    }
   ],
   "source": [
    "df.columns"
   ]
  },
  {
   "cell_type": "markdown",
   "id": "lMDu9wXzhErs",
   "metadata": {
    "id": "lMDu9wXzhErs"
   },
   "source": [
    "**Ridge regresion**"
   ]
  },
  {
   "cell_type": "code",
   "execution_count": 34,
   "id": "a8gNI65b670c",
   "metadata": {
    "executionInfo": {
     "elapsed": 21,
     "status": "ok",
     "timestamp": 1733913548385,
     "user": {
      "displayName": "siddhesh gade",
      "userId": "17841006909022864837"
     },
     "user_tz": -330
    },
    "id": "a8gNI65b670c"
   },
   "outputs": [],
   "source": [
    "from sklearn.preprocessing import OneHotEncoder, StandardScaler\n",
    "from sklearn.compose import ColumnTransformer\n",
    "from sklearn.pipeline import Pipeline\n",
    "from sklearn.linear_model import Ridge\n",
    "from sklearn.metrics import r2_score, mean_squared_error\n",
    "from sklearn.model_selection import GridSearchCV, train_test_split"
   ]
  },
  {
   "cell_type": "code",
   "execution_count": 35,
   "id": "t7WibY4Hq883",
   "metadata": {
    "executionInfo": {
     "elapsed": 21,
     "status": "ok",
     "timestamp": 1733913548385,
     "user": {
      "displayName": "siddhesh gade",
      "userId": "17841006909022864837"
     },
     "user_tz": -330
    },
    "id": "t7WibY4Hq883"
   },
   "outputs": [],
   "source": [
    "# Specify features and target variable\n",
    "X = df[['batter', 'bowler', 'non_striker', 'venue', 'season', 'team1', 'team2',\n",
    "        'balls_count', 'strike_rate']]\n",
    "y = df['total_runs']"
   ]
  },
  {
   "cell_type": "code",
   "execution_count": 36,
   "id": "b7Re2xSSq84_",
   "metadata": {
    "executionInfo": {
     "elapsed": 20,
     "status": "ok",
     "timestamp": 1733913548385,
     "user": {
      "displayName": "siddhesh gade",
      "userId": "17841006909022864837"
     },
     "user_tz": -330
    },
    "id": "b7Re2xSSq84_"
   },
   "outputs": [],
   "source": [
    "# Split data into training and testing sets\n",
    "X_train, X_test, y_train, y_test = train_test_split(X, y, test_size=0.2, random_state=42)"
   ]
  },
  {
   "cell_type": "code",
   "execution_count": 37,
   "id": "nRAnDypfq80c",
   "metadata": {
    "executionInfo": {
     "elapsed": 20,
     "status": "ok",
     "timestamp": 1733913548385,
     "user": {
      "displayName": "siddhesh gade",
      "userId": "17841006909022864837"
     },
     "user_tz": -330
    },
    "id": "nRAnDypfq80c"
   },
   "outputs": [],
   "source": [
    "# Define categorical and numerical columns\n",
    "categorical_cols = ['batter', 'bowler', 'non_striker', 'venue', 'team1', 'team2']\n",
    "numerical_cols = ['season', 'balls_count', 'strike_rate']\n"
   ]
  },
  {
   "cell_type": "code",
   "execution_count": 38,
   "id": "83nWGUXarCBW",
   "metadata": {
    "executionInfo": {
     "elapsed": 20,
     "status": "ok",
     "timestamp": 1733913548386,
     "user": {
      "displayName": "siddhesh gade",
      "userId": "17841006909022864837"
     },
     "user_tz": -330
    },
    "id": "83nWGUXarCBW"
   },
   "outputs": [],
   "source": [
    "# Preprocessing for categorical and numerical columns\n",
    "preprocessor = ColumnTransformer(\n",
    "    transformers=[\n",
    "        ('num', StandardScaler(), numerical_cols),  # Standard scaling for numerical features\n",
    "      ('cat', OneHotEncoder(handle_unknown='ignore'), categorical_cols)  # OneHotEncoding for categorical features\n",
    "    ]\n",
    ")\n",
    "\n",
    "# Create a pipeline with preprocessing and Ridge Regression\n",
    "pipeline = Pipeline(steps=[\n",
    "    ('preprocessor', preprocessor),\n",
    "    ('regressor', Ridge(alpha=100))  # Ridge Regression with default alpha\n",
    "])\n"
   ]
  },
  {
   "cell_type": "code",
   "execution_count": 39,
   "id": "EdT_IrawrB9z",
   "metadata": {
    "colab": {
     "base_uri": "https://localhost:8080/",
     "height": 220
    },
    "executionInfo": {
     "elapsed": 20,
     "status": "ok",
     "timestamp": 1733913548386,
     "user": {
      "displayName": "siddhesh gade",
      "userId": "17841006909022864837"
     },
     "user_tz": -330
    },
    "id": "EdT_IrawrB9z",
    "outputId": "50487f60-0a9a-4270-d847-17af474ad08d"
   },
   "outputs": [
    {
     "data": {
      "text/html": [
       "<style>#sk-container-id-1 {\n",
       "  /* Definition of color scheme common for light and dark mode */\n",
       "  --sklearn-color-text: #000;\n",
       "  --sklearn-color-text-muted: #666;\n",
       "  --sklearn-color-line: gray;\n",
       "  /* Definition of color scheme for unfitted estimators */\n",
       "  --sklearn-color-unfitted-level-0: #fff5e6;\n",
       "  --sklearn-color-unfitted-level-1: #f6e4d2;\n",
       "  --sklearn-color-unfitted-level-2: #ffe0b3;\n",
       "  --sklearn-color-unfitted-level-3: chocolate;\n",
       "  /* Definition of color scheme for fitted estimators */\n",
       "  --sklearn-color-fitted-level-0: #f0f8ff;\n",
       "  --sklearn-color-fitted-level-1: #d4ebff;\n",
       "  --sklearn-color-fitted-level-2: #b3dbfd;\n",
       "  --sklearn-color-fitted-level-3: cornflowerblue;\n",
       "\n",
       "  /* Specific color for light theme */\n",
       "  --sklearn-color-text-on-default-background: var(--sg-text-color, var(--theme-code-foreground, var(--jp-content-font-color1, black)));\n",
       "  --sklearn-color-background: var(--sg-background-color, var(--theme-background, var(--jp-layout-color0, white)));\n",
       "  --sklearn-color-border-box: var(--sg-text-color, var(--theme-code-foreground, var(--jp-content-font-color1, black)));\n",
       "  --sklearn-color-icon: #696969;\n",
       "\n",
       "  @media (prefers-color-scheme: dark) {\n",
       "    /* Redefinition of color scheme for dark theme */\n",
       "    --sklearn-color-text-on-default-background: var(--sg-text-color, var(--theme-code-foreground, var(--jp-content-font-color1, white)));\n",
       "    --sklearn-color-background: var(--sg-background-color, var(--theme-background, var(--jp-layout-color0, #111)));\n",
       "    --sklearn-color-border-box: var(--sg-text-color, var(--theme-code-foreground, var(--jp-content-font-color1, white)));\n",
       "    --sklearn-color-icon: #878787;\n",
       "  }\n",
       "}\n",
       "\n",
       "#sk-container-id-1 {\n",
       "  color: var(--sklearn-color-text);\n",
       "}\n",
       "\n",
       "#sk-container-id-1 pre {\n",
       "  padding: 0;\n",
       "}\n",
       "\n",
       "#sk-container-id-1 input.sk-hidden--visually {\n",
       "  border: 0;\n",
       "  clip: rect(1px 1px 1px 1px);\n",
       "  clip: rect(1px, 1px, 1px, 1px);\n",
       "  height: 1px;\n",
       "  margin: -1px;\n",
       "  overflow: hidden;\n",
       "  padding: 0;\n",
       "  position: absolute;\n",
       "  width: 1px;\n",
       "}\n",
       "\n",
       "#sk-container-id-1 div.sk-dashed-wrapped {\n",
       "  border: 1px dashed var(--sklearn-color-line);\n",
       "  margin: 0 0.4em 0.5em 0.4em;\n",
       "  box-sizing: border-box;\n",
       "  padding-bottom: 0.4em;\n",
       "  background-color: var(--sklearn-color-background);\n",
       "}\n",
       "\n",
       "#sk-container-id-1 div.sk-container {\n",
       "  /* jupyter's `normalize.less` sets `[hidden] { display: none; }`\n",
       "     but bootstrap.min.css set `[hidden] { display: none !important; }`\n",
       "     so we also need the `!important` here to be able to override the\n",
       "     default hidden behavior on the sphinx rendered scikit-learn.org.\n",
       "     See: https://github.com/scikit-learn/scikit-learn/issues/21755 */\n",
       "  display: inline-block !important;\n",
       "  position: relative;\n",
       "}\n",
       "\n",
       "#sk-container-id-1 div.sk-text-repr-fallback {\n",
       "  display: none;\n",
       "}\n",
       "\n",
       "div.sk-parallel-item,\n",
       "div.sk-serial,\n",
       "div.sk-item {\n",
       "  /* draw centered vertical line to link estimators */\n",
       "  background-image: linear-gradient(var(--sklearn-color-text-on-default-background), var(--sklearn-color-text-on-default-background));\n",
       "  background-size: 2px 100%;\n",
       "  background-repeat: no-repeat;\n",
       "  background-position: center center;\n",
       "}\n",
       "\n",
       "/* Parallel-specific style estimator block */\n",
       "\n",
       "#sk-container-id-1 div.sk-parallel-item::after {\n",
       "  content: \"\";\n",
       "  width: 100%;\n",
       "  border-bottom: 2px solid var(--sklearn-color-text-on-default-background);\n",
       "  flex-grow: 1;\n",
       "}\n",
       "\n",
       "#sk-container-id-1 div.sk-parallel {\n",
       "  display: flex;\n",
       "  align-items: stretch;\n",
       "  justify-content: center;\n",
       "  background-color: var(--sklearn-color-background);\n",
       "  position: relative;\n",
       "}\n",
       "\n",
       "#sk-container-id-1 div.sk-parallel-item {\n",
       "  display: flex;\n",
       "  flex-direction: column;\n",
       "}\n",
       "\n",
       "#sk-container-id-1 div.sk-parallel-item:first-child::after {\n",
       "  align-self: flex-end;\n",
       "  width: 50%;\n",
       "}\n",
       "\n",
       "#sk-container-id-1 div.sk-parallel-item:last-child::after {\n",
       "  align-self: flex-start;\n",
       "  width: 50%;\n",
       "}\n",
       "\n",
       "#sk-container-id-1 div.sk-parallel-item:only-child::after {\n",
       "  width: 0;\n",
       "}\n",
       "\n",
       "/* Serial-specific style estimator block */\n",
       "\n",
       "#sk-container-id-1 div.sk-serial {\n",
       "  display: flex;\n",
       "  flex-direction: column;\n",
       "  align-items: center;\n",
       "  background-color: var(--sklearn-color-background);\n",
       "  padding-right: 1em;\n",
       "  padding-left: 1em;\n",
       "}\n",
       "\n",
       "\n",
       "/* Toggleable style: style used for estimator/Pipeline/ColumnTransformer box that is\n",
       "clickable and can be expanded/collapsed.\n",
       "- Pipeline and ColumnTransformer use this feature and define the default style\n",
       "- Estimators will overwrite some part of the style using the `sk-estimator` class\n",
       "*/\n",
       "\n",
       "/* Pipeline and ColumnTransformer style (default) */\n",
       "\n",
       "#sk-container-id-1 div.sk-toggleable {\n",
       "  /* Default theme specific background. It is overwritten whether we have a\n",
       "  specific estimator or a Pipeline/ColumnTransformer */\n",
       "  background-color: var(--sklearn-color-background);\n",
       "}\n",
       "\n",
       "/* Toggleable label */\n",
       "#sk-container-id-1 label.sk-toggleable__label {\n",
       "  cursor: pointer;\n",
       "  display: flex;\n",
       "  width: 100%;\n",
       "  margin-bottom: 0;\n",
       "  padding: 0.5em;\n",
       "  box-sizing: border-box;\n",
       "  text-align: center;\n",
       "  align-items: start;\n",
       "  justify-content: space-between;\n",
       "  gap: 0.5em;\n",
       "}\n",
       "\n",
       "#sk-container-id-1 label.sk-toggleable__label .caption {\n",
       "  font-size: 0.6rem;\n",
       "  font-weight: lighter;\n",
       "  color: var(--sklearn-color-text-muted);\n",
       "}\n",
       "\n",
       "#sk-container-id-1 label.sk-toggleable__label-arrow:before {\n",
       "  /* Arrow on the left of the label */\n",
       "  content: \"▸\";\n",
       "  float: left;\n",
       "  margin-right: 0.25em;\n",
       "  color: var(--sklearn-color-icon);\n",
       "}\n",
       "\n",
       "#sk-container-id-1 label.sk-toggleable__label-arrow:hover:before {\n",
       "  color: var(--sklearn-color-text);\n",
       "}\n",
       "\n",
       "/* Toggleable content - dropdown */\n",
       "\n",
       "#sk-container-id-1 div.sk-toggleable__content {\n",
       "  max-height: 0;\n",
       "  max-width: 0;\n",
       "  overflow: hidden;\n",
       "  text-align: left;\n",
       "  /* unfitted */\n",
       "  background-color: var(--sklearn-color-unfitted-level-0);\n",
       "}\n",
       "\n",
       "#sk-container-id-1 div.sk-toggleable__content.fitted {\n",
       "  /* fitted */\n",
       "  background-color: var(--sklearn-color-fitted-level-0);\n",
       "}\n",
       "\n",
       "#sk-container-id-1 div.sk-toggleable__content pre {\n",
       "  margin: 0.2em;\n",
       "  border-radius: 0.25em;\n",
       "  color: var(--sklearn-color-text);\n",
       "  /* unfitted */\n",
       "  background-color: var(--sklearn-color-unfitted-level-0);\n",
       "}\n",
       "\n",
       "#sk-container-id-1 div.sk-toggleable__content.fitted pre {\n",
       "  /* unfitted */\n",
       "  background-color: var(--sklearn-color-fitted-level-0);\n",
       "}\n",
       "\n",
       "#sk-container-id-1 input.sk-toggleable__control:checked~div.sk-toggleable__content {\n",
       "  /* Expand drop-down */\n",
       "  max-height: 200px;\n",
       "  max-width: 100%;\n",
       "  overflow: auto;\n",
       "}\n",
       "\n",
       "#sk-container-id-1 input.sk-toggleable__control:checked~label.sk-toggleable__label-arrow:before {\n",
       "  content: \"▾\";\n",
       "}\n",
       "\n",
       "/* Pipeline/ColumnTransformer-specific style */\n",
       "\n",
       "#sk-container-id-1 div.sk-label input.sk-toggleable__control:checked~label.sk-toggleable__label {\n",
       "  color: var(--sklearn-color-text);\n",
       "  background-color: var(--sklearn-color-unfitted-level-2);\n",
       "}\n",
       "\n",
       "#sk-container-id-1 div.sk-label.fitted input.sk-toggleable__control:checked~label.sk-toggleable__label {\n",
       "  background-color: var(--sklearn-color-fitted-level-2);\n",
       "}\n",
       "\n",
       "/* Estimator-specific style */\n",
       "\n",
       "/* Colorize estimator box */\n",
       "#sk-container-id-1 div.sk-estimator input.sk-toggleable__control:checked~label.sk-toggleable__label {\n",
       "  /* unfitted */\n",
       "  background-color: var(--sklearn-color-unfitted-level-2);\n",
       "}\n",
       "\n",
       "#sk-container-id-1 div.sk-estimator.fitted input.sk-toggleable__control:checked~label.sk-toggleable__label {\n",
       "  /* fitted */\n",
       "  background-color: var(--sklearn-color-fitted-level-2);\n",
       "}\n",
       "\n",
       "#sk-container-id-1 div.sk-label label.sk-toggleable__label,\n",
       "#sk-container-id-1 div.sk-label label {\n",
       "  /* The background is the default theme color */\n",
       "  color: var(--sklearn-color-text-on-default-background);\n",
       "}\n",
       "\n",
       "/* On hover, darken the color of the background */\n",
       "#sk-container-id-1 div.sk-label:hover label.sk-toggleable__label {\n",
       "  color: var(--sklearn-color-text);\n",
       "  background-color: var(--sklearn-color-unfitted-level-2);\n",
       "}\n",
       "\n",
       "/* Label box, darken color on hover, fitted */\n",
       "#sk-container-id-1 div.sk-label.fitted:hover label.sk-toggleable__label.fitted {\n",
       "  color: var(--sklearn-color-text);\n",
       "  background-color: var(--sklearn-color-fitted-level-2);\n",
       "}\n",
       "\n",
       "/* Estimator label */\n",
       "\n",
       "#sk-container-id-1 div.sk-label label {\n",
       "  font-family: monospace;\n",
       "  font-weight: bold;\n",
       "  display: inline-block;\n",
       "  line-height: 1.2em;\n",
       "}\n",
       "\n",
       "#sk-container-id-1 div.sk-label-container {\n",
       "  text-align: center;\n",
       "}\n",
       "\n",
       "/* Estimator-specific */\n",
       "#sk-container-id-1 div.sk-estimator {\n",
       "  font-family: monospace;\n",
       "  border: 1px dotted var(--sklearn-color-border-box);\n",
       "  border-radius: 0.25em;\n",
       "  box-sizing: border-box;\n",
       "  margin-bottom: 0.5em;\n",
       "  /* unfitted */\n",
       "  background-color: var(--sklearn-color-unfitted-level-0);\n",
       "}\n",
       "\n",
       "#sk-container-id-1 div.sk-estimator.fitted {\n",
       "  /* fitted */\n",
       "  background-color: var(--sklearn-color-fitted-level-0);\n",
       "}\n",
       "\n",
       "/* on hover */\n",
       "#sk-container-id-1 div.sk-estimator:hover {\n",
       "  /* unfitted */\n",
       "  background-color: var(--sklearn-color-unfitted-level-2);\n",
       "}\n",
       "\n",
       "#sk-container-id-1 div.sk-estimator.fitted:hover {\n",
       "  /* fitted */\n",
       "  background-color: var(--sklearn-color-fitted-level-2);\n",
       "}\n",
       "\n",
       "/* Specification for estimator info (e.g. \"i\" and \"?\") */\n",
       "\n",
       "/* Common style for \"i\" and \"?\" */\n",
       "\n",
       ".sk-estimator-doc-link,\n",
       "a:link.sk-estimator-doc-link,\n",
       "a:visited.sk-estimator-doc-link {\n",
       "  float: right;\n",
       "  font-size: smaller;\n",
       "  line-height: 1em;\n",
       "  font-family: monospace;\n",
       "  background-color: var(--sklearn-color-background);\n",
       "  border-radius: 1em;\n",
       "  height: 1em;\n",
       "  width: 1em;\n",
       "  text-decoration: none !important;\n",
       "  margin-left: 0.5em;\n",
       "  text-align: center;\n",
       "  /* unfitted */\n",
       "  border: var(--sklearn-color-unfitted-level-1) 1pt solid;\n",
       "  color: var(--sklearn-color-unfitted-level-1);\n",
       "}\n",
       "\n",
       ".sk-estimator-doc-link.fitted,\n",
       "a:link.sk-estimator-doc-link.fitted,\n",
       "a:visited.sk-estimator-doc-link.fitted {\n",
       "  /* fitted */\n",
       "  border: var(--sklearn-color-fitted-level-1) 1pt solid;\n",
       "  color: var(--sklearn-color-fitted-level-1);\n",
       "}\n",
       "\n",
       "/* On hover */\n",
       "div.sk-estimator:hover .sk-estimator-doc-link:hover,\n",
       ".sk-estimator-doc-link:hover,\n",
       "div.sk-label-container:hover .sk-estimator-doc-link:hover,\n",
       ".sk-estimator-doc-link:hover {\n",
       "  /* unfitted */\n",
       "  background-color: var(--sklearn-color-unfitted-level-3);\n",
       "  color: var(--sklearn-color-background);\n",
       "  text-decoration: none;\n",
       "}\n",
       "\n",
       "div.sk-estimator.fitted:hover .sk-estimator-doc-link.fitted:hover,\n",
       ".sk-estimator-doc-link.fitted:hover,\n",
       "div.sk-label-container:hover .sk-estimator-doc-link.fitted:hover,\n",
       ".sk-estimator-doc-link.fitted:hover {\n",
       "  /* fitted */\n",
       "  background-color: var(--sklearn-color-fitted-level-3);\n",
       "  color: var(--sklearn-color-background);\n",
       "  text-decoration: none;\n",
       "}\n",
       "\n",
       "/* Span, style for the box shown on hovering the info icon */\n",
       ".sk-estimator-doc-link span {\n",
       "  display: none;\n",
       "  z-index: 9999;\n",
       "  position: relative;\n",
       "  font-weight: normal;\n",
       "  right: .2ex;\n",
       "  padding: .5ex;\n",
       "  margin: .5ex;\n",
       "  width: min-content;\n",
       "  min-width: 20ex;\n",
       "  max-width: 50ex;\n",
       "  color: var(--sklearn-color-text);\n",
       "  box-shadow: 2pt 2pt 4pt #999;\n",
       "  /* unfitted */\n",
       "  background: var(--sklearn-color-unfitted-level-0);\n",
       "  border: .5pt solid var(--sklearn-color-unfitted-level-3);\n",
       "}\n",
       "\n",
       ".sk-estimator-doc-link.fitted span {\n",
       "  /* fitted */\n",
       "  background: var(--sklearn-color-fitted-level-0);\n",
       "  border: var(--sklearn-color-fitted-level-3);\n",
       "}\n",
       "\n",
       ".sk-estimator-doc-link:hover span {\n",
       "  display: block;\n",
       "}\n",
       "\n",
       "/* \"?\"-specific style due to the `<a>` HTML tag */\n",
       "\n",
       "#sk-container-id-1 a.estimator_doc_link {\n",
       "  float: right;\n",
       "  font-size: 1rem;\n",
       "  line-height: 1em;\n",
       "  font-family: monospace;\n",
       "  background-color: var(--sklearn-color-background);\n",
       "  border-radius: 1rem;\n",
       "  height: 1rem;\n",
       "  width: 1rem;\n",
       "  text-decoration: none;\n",
       "  /* unfitted */\n",
       "  color: var(--sklearn-color-unfitted-level-1);\n",
       "  border: var(--sklearn-color-unfitted-level-1) 1pt solid;\n",
       "}\n",
       "\n",
       "#sk-container-id-1 a.estimator_doc_link.fitted {\n",
       "  /* fitted */\n",
       "  border: var(--sklearn-color-fitted-level-1) 1pt solid;\n",
       "  color: var(--sklearn-color-fitted-level-1);\n",
       "}\n",
       "\n",
       "/* On hover */\n",
       "#sk-container-id-1 a.estimator_doc_link:hover {\n",
       "  /* unfitted */\n",
       "  background-color: var(--sklearn-color-unfitted-level-3);\n",
       "  color: var(--sklearn-color-background);\n",
       "  text-decoration: none;\n",
       "}\n",
       "\n",
       "#sk-container-id-1 a.estimator_doc_link.fitted:hover {\n",
       "  /* fitted */\n",
       "  background-color: var(--sklearn-color-fitted-level-3);\n",
       "}\n",
       "</style><div id=\"sk-container-id-1\" class=\"sk-top-container\"><div class=\"sk-text-repr-fallback\"><pre>Pipeline(steps=[(&#x27;preprocessor&#x27;,\n",
       "                 ColumnTransformer(transformers=[(&#x27;num&#x27;, StandardScaler(),\n",
       "                                                  [&#x27;season&#x27;, &#x27;balls_count&#x27;,\n",
       "                                                   &#x27;strike_rate&#x27;]),\n",
       "                                                 (&#x27;cat&#x27;,\n",
       "                                                  OneHotEncoder(handle_unknown=&#x27;ignore&#x27;),\n",
       "                                                  [&#x27;batter&#x27;, &#x27;bowler&#x27;,\n",
       "                                                   &#x27;non_striker&#x27;, &#x27;venue&#x27;,\n",
       "                                                   &#x27;team1&#x27;, &#x27;team2&#x27;])])),\n",
       "                (&#x27;regressor&#x27;, Ridge(alpha=100))])</pre><b>In a Jupyter environment, please rerun this cell to show the HTML representation or trust the notebook. <br />On GitHub, the HTML representation is unable to render, please try loading this page with nbviewer.org.</b></div><div class=\"sk-container\" hidden><div class=\"sk-item sk-dashed-wrapped\"><div class=\"sk-label-container\"><div class=\"sk-label fitted sk-toggleable\"><input class=\"sk-toggleable__control sk-hidden--visually\" id=\"sk-estimator-id-1\" type=\"checkbox\" ><label for=\"sk-estimator-id-1\" class=\"sk-toggleable__label fitted sk-toggleable__label-arrow\"><div><div>Pipeline</div></div><div><a class=\"sk-estimator-doc-link fitted\" rel=\"noreferrer\" target=\"_blank\" href=\"https://scikit-learn.org/1.6/modules/generated/sklearn.pipeline.Pipeline.html\">?<span>Documentation for Pipeline</span></a><span class=\"sk-estimator-doc-link fitted\">i<span>Fitted</span></span></div></label><div class=\"sk-toggleable__content fitted\"><pre>Pipeline(steps=[(&#x27;preprocessor&#x27;,\n",
       "                 ColumnTransformer(transformers=[(&#x27;num&#x27;, StandardScaler(),\n",
       "                                                  [&#x27;season&#x27;, &#x27;balls_count&#x27;,\n",
       "                                                   &#x27;strike_rate&#x27;]),\n",
       "                                                 (&#x27;cat&#x27;,\n",
       "                                                  OneHotEncoder(handle_unknown=&#x27;ignore&#x27;),\n",
       "                                                  [&#x27;batter&#x27;, &#x27;bowler&#x27;,\n",
       "                                                   &#x27;non_striker&#x27;, &#x27;venue&#x27;,\n",
       "                                                   &#x27;team1&#x27;, &#x27;team2&#x27;])])),\n",
       "                (&#x27;regressor&#x27;, Ridge(alpha=100))])</pre></div> </div></div><div class=\"sk-serial\"><div class=\"sk-item sk-dashed-wrapped\"><div class=\"sk-label-container\"><div class=\"sk-label fitted sk-toggleable\"><input class=\"sk-toggleable__control sk-hidden--visually\" id=\"sk-estimator-id-2\" type=\"checkbox\" ><label for=\"sk-estimator-id-2\" class=\"sk-toggleable__label fitted sk-toggleable__label-arrow\"><div><div>preprocessor: ColumnTransformer</div></div><div><a class=\"sk-estimator-doc-link fitted\" rel=\"noreferrer\" target=\"_blank\" href=\"https://scikit-learn.org/1.6/modules/generated/sklearn.compose.ColumnTransformer.html\">?<span>Documentation for preprocessor: ColumnTransformer</span></a></div></label><div class=\"sk-toggleable__content fitted\"><pre>ColumnTransformer(transformers=[(&#x27;num&#x27;, StandardScaler(),\n",
       "                                 [&#x27;season&#x27;, &#x27;balls_count&#x27;, &#x27;strike_rate&#x27;]),\n",
       "                                (&#x27;cat&#x27;, OneHotEncoder(handle_unknown=&#x27;ignore&#x27;),\n",
       "                                 [&#x27;batter&#x27;, &#x27;bowler&#x27;, &#x27;non_striker&#x27;, &#x27;venue&#x27;,\n",
       "                                  &#x27;team1&#x27;, &#x27;team2&#x27;])])</pre></div> </div></div><div class=\"sk-parallel\"><div class=\"sk-parallel-item\"><div class=\"sk-item\"><div class=\"sk-label-container\"><div class=\"sk-label fitted sk-toggleable\"><input class=\"sk-toggleable__control sk-hidden--visually\" id=\"sk-estimator-id-3\" type=\"checkbox\" ><label for=\"sk-estimator-id-3\" class=\"sk-toggleable__label fitted sk-toggleable__label-arrow\"><div><div>num</div></div></label><div class=\"sk-toggleable__content fitted\"><pre>[&#x27;season&#x27;, &#x27;balls_count&#x27;, &#x27;strike_rate&#x27;]</pre></div> </div></div><div class=\"sk-serial\"><div class=\"sk-item\"><div class=\"sk-estimator fitted sk-toggleable\"><input class=\"sk-toggleable__control sk-hidden--visually\" id=\"sk-estimator-id-4\" type=\"checkbox\" ><label for=\"sk-estimator-id-4\" class=\"sk-toggleable__label fitted sk-toggleable__label-arrow\"><div><div>StandardScaler</div></div><div><a class=\"sk-estimator-doc-link fitted\" rel=\"noreferrer\" target=\"_blank\" href=\"https://scikit-learn.org/1.6/modules/generated/sklearn.preprocessing.StandardScaler.html\">?<span>Documentation for StandardScaler</span></a></div></label><div class=\"sk-toggleable__content fitted\"><pre>StandardScaler()</pre></div> </div></div></div></div></div><div class=\"sk-parallel-item\"><div class=\"sk-item\"><div class=\"sk-label-container\"><div class=\"sk-label fitted sk-toggleable\"><input class=\"sk-toggleable__control sk-hidden--visually\" id=\"sk-estimator-id-5\" type=\"checkbox\" ><label for=\"sk-estimator-id-5\" class=\"sk-toggleable__label fitted sk-toggleable__label-arrow\"><div><div>cat</div></div></label><div class=\"sk-toggleable__content fitted\"><pre>[&#x27;batter&#x27;, &#x27;bowler&#x27;, &#x27;non_striker&#x27;, &#x27;venue&#x27;, &#x27;team1&#x27;, &#x27;team2&#x27;]</pre></div> </div></div><div class=\"sk-serial\"><div class=\"sk-item\"><div class=\"sk-estimator fitted sk-toggleable\"><input class=\"sk-toggleable__control sk-hidden--visually\" id=\"sk-estimator-id-6\" type=\"checkbox\" ><label for=\"sk-estimator-id-6\" class=\"sk-toggleable__label fitted sk-toggleable__label-arrow\"><div><div>OneHotEncoder</div></div><div><a class=\"sk-estimator-doc-link fitted\" rel=\"noreferrer\" target=\"_blank\" href=\"https://scikit-learn.org/1.6/modules/generated/sklearn.preprocessing.OneHotEncoder.html\">?<span>Documentation for OneHotEncoder</span></a></div></label><div class=\"sk-toggleable__content fitted\"><pre>OneHotEncoder(handle_unknown=&#x27;ignore&#x27;)</pre></div> </div></div></div></div></div></div></div><div class=\"sk-item\"><div class=\"sk-estimator fitted sk-toggleable\"><input class=\"sk-toggleable__control sk-hidden--visually\" id=\"sk-estimator-id-7\" type=\"checkbox\" ><label for=\"sk-estimator-id-7\" class=\"sk-toggleable__label fitted sk-toggleable__label-arrow\"><div><div>Ridge</div></div><div><a class=\"sk-estimator-doc-link fitted\" rel=\"noreferrer\" target=\"_blank\" href=\"https://scikit-learn.org/1.6/modules/generated/sklearn.linear_model.Ridge.html\">?<span>Documentation for Ridge</span></a></div></label><div class=\"sk-toggleable__content fitted\"><pre>Ridge(alpha=100)</pre></div> </div></div></div></div></div></div>"
      ],
      "text/plain": [
       "Pipeline(steps=[('preprocessor',\n",
       "                 ColumnTransformer(transformers=[('num', StandardScaler(),\n",
       "                                                  ['season', 'balls_count',\n",
       "                                                   'strike_rate']),\n",
       "                                                 ('cat',\n",
       "                                                  OneHotEncoder(handle_unknown='ignore'),\n",
       "                                                  ['batter', 'bowler',\n",
       "                                                   'non_striker', 'venue',\n",
       "                                                   'team1', 'team2'])])),\n",
       "                ('regressor', Ridge(alpha=100))])"
      ]
     },
     "execution_count": 39,
     "metadata": {},
     "output_type": "execute_result"
    }
   ],
   "source": [
    "# Train the model\n",
    "pipeline.fit(X_train, y_train)"
   ]
  },
  {
   "cell_type": "code",
   "execution_count": 40,
   "id": "4KLTYtEQLZYX",
   "metadata": {
    "colab": {
     "base_uri": "https://localhost:8080/",
     "height": 220
    },
    "executionInfo": {
     "elapsed": 35,
     "status": "ok",
     "timestamp": 1733913549200,
     "user": {
      "displayName": "siddhesh gade",
      "userId": "17841006909022864837"
     },
     "user_tz": -330
    },
    "id": "4KLTYtEQLZYX",
    "outputId": "92c57b62-4888-4131-840b-85c1b78e0af6"
   },
   "outputs": [
    {
     "data": {
      "text/html": [
       "<style>#sk-container-id-2 {\n",
       "  /* Definition of color scheme common for light and dark mode */\n",
       "  --sklearn-color-text: #000;\n",
       "  --sklearn-color-text-muted: #666;\n",
       "  --sklearn-color-line: gray;\n",
       "  /* Definition of color scheme for unfitted estimators */\n",
       "  --sklearn-color-unfitted-level-0: #fff5e6;\n",
       "  --sklearn-color-unfitted-level-1: #f6e4d2;\n",
       "  --sklearn-color-unfitted-level-2: #ffe0b3;\n",
       "  --sklearn-color-unfitted-level-3: chocolate;\n",
       "  /* Definition of color scheme for fitted estimators */\n",
       "  --sklearn-color-fitted-level-0: #f0f8ff;\n",
       "  --sklearn-color-fitted-level-1: #d4ebff;\n",
       "  --sklearn-color-fitted-level-2: #b3dbfd;\n",
       "  --sklearn-color-fitted-level-3: cornflowerblue;\n",
       "\n",
       "  /* Specific color for light theme */\n",
       "  --sklearn-color-text-on-default-background: var(--sg-text-color, var(--theme-code-foreground, var(--jp-content-font-color1, black)));\n",
       "  --sklearn-color-background: var(--sg-background-color, var(--theme-background, var(--jp-layout-color0, white)));\n",
       "  --sklearn-color-border-box: var(--sg-text-color, var(--theme-code-foreground, var(--jp-content-font-color1, black)));\n",
       "  --sklearn-color-icon: #696969;\n",
       "\n",
       "  @media (prefers-color-scheme: dark) {\n",
       "    /* Redefinition of color scheme for dark theme */\n",
       "    --sklearn-color-text-on-default-background: var(--sg-text-color, var(--theme-code-foreground, var(--jp-content-font-color1, white)));\n",
       "    --sklearn-color-background: var(--sg-background-color, var(--theme-background, var(--jp-layout-color0, #111)));\n",
       "    --sklearn-color-border-box: var(--sg-text-color, var(--theme-code-foreground, var(--jp-content-font-color1, white)));\n",
       "    --sklearn-color-icon: #878787;\n",
       "  }\n",
       "}\n",
       "\n",
       "#sk-container-id-2 {\n",
       "  color: var(--sklearn-color-text);\n",
       "}\n",
       "\n",
       "#sk-container-id-2 pre {\n",
       "  padding: 0;\n",
       "}\n",
       "\n",
       "#sk-container-id-2 input.sk-hidden--visually {\n",
       "  border: 0;\n",
       "  clip: rect(1px 1px 1px 1px);\n",
       "  clip: rect(1px, 1px, 1px, 1px);\n",
       "  height: 1px;\n",
       "  margin: -1px;\n",
       "  overflow: hidden;\n",
       "  padding: 0;\n",
       "  position: absolute;\n",
       "  width: 1px;\n",
       "}\n",
       "\n",
       "#sk-container-id-2 div.sk-dashed-wrapped {\n",
       "  border: 1px dashed var(--sklearn-color-line);\n",
       "  margin: 0 0.4em 0.5em 0.4em;\n",
       "  box-sizing: border-box;\n",
       "  padding-bottom: 0.4em;\n",
       "  background-color: var(--sklearn-color-background);\n",
       "}\n",
       "\n",
       "#sk-container-id-2 div.sk-container {\n",
       "  /* jupyter's `normalize.less` sets `[hidden] { display: none; }`\n",
       "     but bootstrap.min.css set `[hidden] { display: none !important; }`\n",
       "     so we also need the `!important` here to be able to override the\n",
       "     default hidden behavior on the sphinx rendered scikit-learn.org.\n",
       "     See: https://github.com/scikit-learn/scikit-learn/issues/21755 */\n",
       "  display: inline-block !important;\n",
       "  position: relative;\n",
       "}\n",
       "\n",
       "#sk-container-id-2 div.sk-text-repr-fallback {\n",
       "  display: none;\n",
       "}\n",
       "\n",
       "div.sk-parallel-item,\n",
       "div.sk-serial,\n",
       "div.sk-item {\n",
       "  /* draw centered vertical line to link estimators */\n",
       "  background-image: linear-gradient(var(--sklearn-color-text-on-default-background), var(--sklearn-color-text-on-default-background));\n",
       "  background-size: 2px 100%;\n",
       "  background-repeat: no-repeat;\n",
       "  background-position: center center;\n",
       "}\n",
       "\n",
       "/* Parallel-specific style estimator block */\n",
       "\n",
       "#sk-container-id-2 div.sk-parallel-item::after {\n",
       "  content: \"\";\n",
       "  width: 100%;\n",
       "  border-bottom: 2px solid var(--sklearn-color-text-on-default-background);\n",
       "  flex-grow: 1;\n",
       "}\n",
       "\n",
       "#sk-container-id-2 div.sk-parallel {\n",
       "  display: flex;\n",
       "  align-items: stretch;\n",
       "  justify-content: center;\n",
       "  background-color: var(--sklearn-color-background);\n",
       "  position: relative;\n",
       "}\n",
       "\n",
       "#sk-container-id-2 div.sk-parallel-item {\n",
       "  display: flex;\n",
       "  flex-direction: column;\n",
       "}\n",
       "\n",
       "#sk-container-id-2 div.sk-parallel-item:first-child::after {\n",
       "  align-self: flex-end;\n",
       "  width: 50%;\n",
       "}\n",
       "\n",
       "#sk-container-id-2 div.sk-parallel-item:last-child::after {\n",
       "  align-self: flex-start;\n",
       "  width: 50%;\n",
       "}\n",
       "\n",
       "#sk-container-id-2 div.sk-parallel-item:only-child::after {\n",
       "  width: 0;\n",
       "}\n",
       "\n",
       "/* Serial-specific style estimator block */\n",
       "\n",
       "#sk-container-id-2 div.sk-serial {\n",
       "  display: flex;\n",
       "  flex-direction: column;\n",
       "  align-items: center;\n",
       "  background-color: var(--sklearn-color-background);\n",
       "  padding-right: 1em;\n",
       "  padding-left: 1em;\n",
       "}\n",
       "\n",
       "\n",
       "/* Toggleable style: style used for estimator/Pipeline/ColumnTransformer box that is\n",
       "clickable and can be expanded/collapsed.\n",
       "- Pipeline and ColumnTransformer use this feature and define the default style\n",
       "- Estimators will overwrite some part of the style using the `sk-estimator` class\n",
       "*/\n",
       "\n",
       "/* Pipeline and ColumnTransformer style (default) */\n",
       "\n",
       "#sk-container-id-2 div.sk-toggleable {\n",
       "  /* Default theme specific background. It is overwritten whether we have a\n",
       "  specific estimator or a Pipeline/ColumnTransformer */\n",
       "  background-color: var(--sklearn-color-background);\n",
       "}\n",
       "\n",
       "/* Toggleable label */\n",
       "#sk-container-id-2 label.sk-toggleable__label {\n",
       "  cursor: pointer;\n",
       "  display: flex;\n",
       "  width: 100%;\n",
       "  margin-bottom: 0;\n",
       "  padding: 0.5em;\n",
       "  box-sizing: border-box;\n",
       "  text-align: center;\n",
       "  align-items: start;\n",
       "  justify-content: space-between;\n",
       "  gap: 0.5em;\n",
       "}\n",
       "\n",
       "#sk-container-id-2 label.sk-toggleable__label .caption {\n",
       "  font-size: 0.6rem;\n",
       "  font-weight: lighter;\n",
       "  color: var(--sklearn-color-text-muted);\n",
       "}\n",
       "\n",
       "#sk-container-id-2 label.sk-toggleable__label-arrow:before {\n",
       "  /* Arrow on the left of the label */\n",
       "  content: \"▸\";\n",
       "  float: left;\n",
       "  margin-right: 0.25em;\n",
       "  color: var(--sklearn-color-icon);\n",
       "}\n",
       "\n",
       "#sk-container-id-2 label.sk-toggleable__label-arrow:hover:before {\n",
       "  color: var(--sklearn-color-text);\n",
       "}\n",
       "\n",
       "/* Toggleable content - dropdown */\n",
       "\n",
       "#sk-container-id-2 div.sk-toggleable__content {\n",
       "  max-height: 0;\n",
       "  max-width: 0;\n",
       "  overflow: hidden;\n",
       "  text-align: left;\n",
       "  /* unfitted */\n",
       "  background-color: var(--sklearn-color-unfitted-level-0);\n",
       "}\n",
       "\n",
       "#sk-container-id-2 div.sk-toggleable__content.fitted {\n",
       "  /* fitted */\n",
       "  background-color: var(--sklearn-color-fitted-level-0);\n",
       "}\n",
       "\n",
       "#sk-container-id-2 div.sk-toggleable__content pre {\n",
       "  margin: 0.2em;\n",
       "  border-radius: 0.25em;\n",
       "  color: var(--sklearn-color-text);\n",
       "  /* unfitted */\n",
       "  background-color: var(--sklearn-color-unfitted-level-0);\n",
       "}\n",
       "\n",
       "#sk-container-id-2 div.sk-toggleable__content.fitted pre {\n",
       "  /* unfitted */\n",
       "  background-color: var(--sklearn-color-fitted-level-0);\n",
       "}\n",
       "\n",
       "#sk-container-id-2 input.sk-toggleable__control:checked~div.sk-toggleable__content {\n",
       "  /* Expand drop-down */\n",
       "  max-height: 200px;\n",
       "  max-width: 100%;\n",
       "  overflow: auto;\n",
       "}\n",
       "\n",
       "#sk-container-id-2 input.sk-toggleable__control:checked~label.sk-toggleable__label-arrow:before {\n",
       "  content: \"▾\";\n",
       "}\n",
       "\n",
       "/* Pipeline/ColumnTransformer-specific style */\n",
       "\n",
       "#sk-container-id-2 div.sk-label input.sk-toggleable__control:checked~label.sk-toggleable__label {\n",
       "  color: var(--sklearn-color-text);\n",
       "  background-color: var(--sklearn-color-unfitted-level-2);\n",
       "}\n",
       "\n",
       "#sk-container-id-2 div.sk-label.fitted input.sk-toggleable__control:checked~label.sk-toggleable__label {\n",
       "  background-color: var(--sklearn-color-fitted-level-2);\n",
       "}\n",
       "\n",
       "/* Estimator-specific style */\n",
       "\n",
       "/* Colorize estimator box */\n",
       "#sk-container-id-2 div.sk-estimator input.sk-toggleable__control:checked~label.sk-toggleable__label {\n",
       "  /* unfitted */\n",
       "  background-color: var(--sklearn-color-unfitted-level-2);\n",
       "}\n",
       "\n",
       "#sk-container-id-2 div.sk-estimator.fitted input.sk-toggleable__control:checked~label.sk-toggleable__label {\n",
       "  /* fitted */\n",
       "  background-color: var(--sklearn-color-fitted-level-2);\n",
       "}\n",
       "\n",
       "#sk-container-id-2 div.sk-label label.sk-toggleable__label,\n",
       "#sk-container-id-2 div.sk-label label {\n",
       "  /* The background is the default theme color */\n",
       "  color: var(--sklearn-color-text-on-default-background);\n",
       "}\n",
       "\n",
       "/* On hover, darken the color of the background */\n",
       "#sk-container-id-2 div.sk-label:hover label.sk-toggleable__label {\n",
       "  color: var(--sklearn-color-text);\n",
       "  background-color: var(--sklearn-color-unfitted-level-2);\n",
       "}\n",
       "\n",
       "/* Label box, darken color on hover, fitted */\n",
       "#sk-container-id-2 div.sk-label.fitted:hover label.sk-toggleable__label.fitted {\n",
       "  color: var(--sklearn-color-text);\n",
       "  background-color: var(--sklearn-color-fitted-level-2);\n",
       "}\n",
       "\n",
       "/* Estimator label */\n",
       "\n",
       "#sk-container-id-2 div.sk-label label {\n",
       "  font-family: monospace;\n",
       "  font-weight: bold;\n",
       "  display: inline-block;\n",
       "  line-height: 1.2em;\n",
       "}\n",
       "\n",
       "#sk-container-id-2 div.sk-label-container {\n",
       "  text-align: center;\n",
       "}\n",
       "\n",
       "/* Estimator-specific */\n",
       "#sk-container-id-2 div.sk-estimator {\n",
       "  font-family: monospace;\n",
       "  border: 1px dotted var(--sklearn-color-border-box);\n",
       "  border-radius: 0.25em;\n",
       "  box-sizing: border-box;\n",
       "  margin-bottom: 0.5em;\n",
       "  /* unfitted */\n",
       "  background-color: var(--sklearn-color-unfitted-level-0);\n",
       "}\n",
       "\n",
       "#sk-container-id-2 div.sk-estimator.fitted {\n",
       "  /* fitted */\n",
       "  background-color: var(--sklearn-color-fitted-level-0);\n",
       "}\n",
       "\n",
       "/* on hover */\n",
       "#sk-container-id-2 div.sk-estimator:hover {\n",
       "  /* unfitted */\n",
       "  background-color: var(--sklearn-color-unfitted-level-2);\n",
       "}\n",
       "\n",
       "#sk-container-id-2 div.sk-estimator.fitted:hover {\n",
       "  /* fitted */\n",
       "  background-color: var(--sklearn-color-fitted-level-2);\n",
       "}\n",
       "\n",
       "/* Specification for estimator info (e.g. \"i\" and \"?\") */\n",
       "\n",
       "/* Common style for \"i\" and \"?\" */\n",
       "\n",
       ".sk-estimator-doc-link,\n",
       "a:link.sk-estimator-doc-link,\n",
       "a:visited.sk-estimator-doc-link {\n",
       "  float: right;\n",
       "  font-size: smaller;\n",
       "  line-height: 1em;\n",
       "  font-family: monospace;\n",
       "  background-color: var(--sklearn-color-background);\n",
       "  border-radius: 1em;\n",
       "  height: 1em;\n",
       "  width: 1em;\n",
       "  text-decoration: none !important;\n",
       "  margin-left: 0.5em;\n",
       "  text-align: center;\n",
       "  /* unfitted */\n",
       "  border: var(--sklearn-color-unfitted-level-1) 1pt solid;\n",
       "  color: var(--sklearn-color-unfitted-level-1);\n",
       "}\n",
       "\n",
       ".sk-estimator-doc-link.fitted,\n",
       "a:link.sk-estimator-doc-link.fitted,\n",
       "a:visited.sk-estimator-doc-link.fitted {\n",
       "  /* fitted */\n",
       "  border: var(--sklearn-color-fitted-level-1) 1pt solid;\n",
       "  color: var(--sklearn-color-fitted-level-1);\n",
       "}\n",
       "\n",
       "/* On hover */\n",
       "div.sk-estimator:hover .sk-estimator-doc-link:hover,\n",
       ".sk-estimator-doc-link:hover,\n",
       "div.sk-label-container:hover .sk-estimator-doc-link:hover,\n",
       ".sk-estimator-doc-link:hover {\n",
       "  /* unfitted */\n",
       "  background-color: var(--sklearn-color-unfitted-level-3);\n",
       "  color: var(--sklearn-color-background);\n",
       "  text-decoration: none;\n",
       "}\n",
       "\n",
       "div.sk-estimator.fitted:hover .sk-estimator-doc-link.fitted:hover,\n",
       ".sk-estimator-doc-link.fitted:hover,\n",
       "div.sk-label-container:hover .sk-estimator-doc-link.fitted:hover,\n",
       ".sk-estimator-doc-link.fitted:hover {\n",
       "  /* fitted */\n",
       "  background-color: var(--sklearn-color-fitted-level-3);\n",
       "  color: var(--sklearn-color-background);\n",
       "  text-decoration: none;\n",
       "}\n",
       "\n",
       "/* Span, style for the box shown on hovering the info icon */\n",
       ".sk-estimator-doc-link span {\n",
       "  display: none;\n",
       "  z-index: 9999;\n",
       "  position: relative;\n",
       "  font-weight: normal;\n",
       "  right: .2ex;\n",
       "  padding: .5ex;\n",
       "  margin: .5ex;\n",
       "  width: min-content;\n",
       "  min-width: 20ex;\n",
       "  max-width: 50ex;\n",
       "  color: var(--sklearn-color-text);\n",
       "  box-shadow: 2pt 2pt 4pt #999;\n",
       "  /* unfitted */\n",
       "  background: var(--sklearn-color-unfitted-level-0);\n",
       "  border: .5pt solid var(--sklearn-color-unfitted-level-3);\n",
       "}\n",
       "\n",
       ".sk-estimator-doc-link.fitted span {\n",
       "  /* fitted */\n",
       "  background: var(--sklearn-color-fitted-level-0);\n",
       "  border: var(--sklearn-color-fitted-level-3);\n",
       "}\n",
       "\n",
       ".sk-estimator-doc-link:hover span {\n",
       "  display: block;\n",
       "}\n",
       "\n",
       "/* \"?\"-specific style due to the `<a>` HTML tag */\n",
       "\n",
       "#sk-container-id-2 a.estimator_doc_link {\n",
       "  float: right;\n",
       "  font-size: 1rem;\n",
       "  line-height: 1em;\n",
       "  font-family: monospace;\n",
       "  background-color: var(--sklearn-color-background);\n",
       "  border-radius: 1rem;\n",
       "  height: 1rem;\n",
       "  width: 1rem;\n",
       "  text-decoration: none;\n",
       "  /* unfitted */\n",
       "  color: var(--sklearn-color-unfitted-level-1);\n",
       "  border: var(--sklearn-color-unfitted-level-1) 1pt solid;\n",
       "}\n",
       "\n",
       "#sk-container-id-2 a.estimator_doc_link.fitted {\n",
       "  /* fitted */\n",
       "  border: var(--sklearn-color-fitted-level-1) 1pt solid;\n",
       "  color: var(--sklearn-color-fitted-level-1);\n",
       "}\n",
       "\n",
       "/* On hover */\n",
       "#sk-container-id-2 a.estimator_doc_link:hover {\n",
       "  /* unfitted */\n",
       "  background-color: var(--sklearn-color-unfitted-level-3);\n",
       "  color: var(--sklearn-color-background);\n",
       "  text-decoration: none;\n",
       "}\n",
       "\n",
       "#sk-container-id-2 a.estimator_doc_link.fitted:hover {\n",
       "  /* fitted */\n",
       "  background-color: var(--sklearn-color-fitted-level-3);\n",
       "}\n",
       "</style><div id=\"sk-container-id-2\" class=\"sk-top-container\"><div class=\"sk-text-repr-fallback\"><pre>Pipeline(steps=[(&#x27;preprocessor&#x27;,\n",
       "                 ColumnTransformer(transformers=[(&#x27;num&#x27;, StandardScaler(),\n",
       "                                                  [&#x27;season&#x27;, &#x27;balls_count&#x27;,\n",
       "                                                   &#x27;strike_rate&#x27;]),\n",
       "                                                 (&#x27;cat&#x27;,\n",
       "                                                  OneHotEncoder(handle_unknown=&#x27;ignore&#x27;),\n",
       "                                                  [&#x27;batter&#x27;, &#x27;bowler&#x27;,\n",
       "                                                   &#x27;non_striker&#x27;, &#x27;venue&#x27;,\n",
       "                                                   &#x27;team1&#x27;, &#x27;team2&#x27;])])),\n",
       "                (&#x27;regressor&#x27;, Ridge(alpha=100))])</pre><b>In a Jupyter environment, please rerun this cell to show the HTML representation or trust the notebook. <br />On GitHub, the HTML representation is unable to render, please try loading this page with nbviewer.org.</b></div><div class=\"sk-container\" hidden><div class=\"sk-item sk-dashed-wrapped\"><div class=\"sk-label-container\"><div class=\"sk-label fitted sk-toggleable\"><input class=\"sk-toggleable__control sk-hidden--visually\" id=\"sk-estimator-id-8\" type=\"checkbox\" ><label for=\"sk-estimator-id-8\" class=\"sk-toggleable__label fitted sk-toggleable__label-arrow\"><div><div>Pipeline</div></div><div><a class=\"sk-estimator-doc-link fitted\" rel=\"noreferrer\" target=\"_blank\" href=\"https://scikit-learn.org/1.6/modules/generated/sklearn.pipeline.Pipeline.html\">?<span>Documentation for Pipeline</span></a><span class=\"sk-estimator-doc-link fitted\">i<span>Fitted</span></span></div></label><div class=\"sk-toggleable__content fitted\"><pre>Pipeline(steps=[(&#x27;preprocessor&#x27;,\n",
       "                 ColumnTransformer(transformers=[(&#x27;num&#x27;, StandardScaler(),\n",
       "                                                  [&#x27;season&#x27;, &#x27;balls_count&#x27;,\n",
       "                                                   &#x27;strike_rate&#x27;]),\n",
       "                                                 (&#x27;cat&#x27;,\n",
       "                                                  OneHotEncoder(handle_unknown=&#x27;ignore&#x27;),\n",
       "                                                  [&#x27;batter&#x27;, &#x27;bowler&#x27;,\n",
       "                                                   &#x27;non_striker&#x27;, &#x27;venue&#x27;,\n",
       "                                                   &#x27;team1&#x27;, &#x27;team2&#x27;])])),\n",
       "                (&#x27;regressor&#x27;, Ridge(alpha=100))])</pre></div> </div></div><div class=\"sk-serial\"><div class=\"sk-item sk-dashed-wrapped\"><div class=\"sk-label-container\"><div class=\"sk-label fitted sk-toggleable\"><input class=\"sk-toggleable__control sk-hidden--visually\" id=\"sk-estimator-id-9\" type=\"checkbox\" ><label for=\"sk-estimator-id-9\" class=\"sk-toggleable__label fitted sk-toggleable__label-arrow\"><div><div>preprocessor: ColumnTransformer</div></div><div><a class=\"sk-estimator-doc-link fitted\" rel=\"noreferrer\" target=\"_blank\" href=\"https://scikit-learn.org/1.6/modules/generated/sklearn.compose.ColumnTransformer.html\">?<span>Documentation for preprocessor: ColumnTransformer</span></a></div></label><div class=\"sk-toggleable__content fitted\"><pre>ColumnTransformer(transformers=[(&#x27;num&#x27;, StandardScaler(),\n",
       "                                 [&#x27;season&#x27;, &#x27;balls_count&#x27;, &#x27;strike_rate&#x27;]),\n",
       "                                (&#x27;cat&#x27;, OneHotEncoder(handle_unknown=&#x27;ignore&#x27;),\n",
       "                                 [&#x27;batter&#x27;, &#x27;bowler&#x27;, &#x27;non_striker&#x27;, &#x27;venue&#x27;,\n",
       "                                  &#x27;team1&#x27;, &#x27;team2&#x27;])])</pre></div> </div></div><div class=\"sk-parallel\"><div class=\"sk-parallel-item\"><div class=\"sk-item\"><div class=\"sk-label-container\"><div class=\"sk-label fitted sk-toggleable\"><input class=\"sk-toggleable__control sk-hidden--visually\" id=\"sk-estimator-id-10\" type=\"checkbox\" ><label for=\"sk-estimator-id-10\" class=\"sk-toggleable__label fitted sk-toggleable__label-arrow\"><div><div>num</div></div></label><div class=\"sk-toggleable__content fitted\"><pre>[&#x27;season&#x27;, &#x27;balls_count&#x27;, &#x27;strike_rate&#x27;]</pre></div> </div></div><div class=\"sk-serial\"><div class=\"sk-item\"><div class=\"sk-estimator fitted sk-toggleable\"><input class=\"sk-toggleable__control sk-hidden--visually\" id=\"sk-estimator-id-11\" type=\"checkbox\" ><label for=\"sk-estimator-id-11\" class=\"sk-toggleable__label fitted sk-toggleable__label-arrow\"><div><div>StandardScaler</div></div><div><a class=\"sk-estimator-doc-link fitted\" rel=\"noreferrer\" target=\"_blank\" href=\"https://scikit-learn.org/1.6/modules/generated/sklearn.preprocessing.StandardScaler.html\">?<span>Documentation for StandardScaler</span></a></div></label><div class=\"sk-toggleable__content fitted\"><pre>StandardScaler()</pre></div> </div></div></div></div></div><div class=\"sk-parallel-item\"><div class=\"sk-item\"><div class=\"sk-label-container\"><div class=\"sk-label fitted sk-toggleable\"><input class=\"sk-toggleable__control sk-hidden--visually\" id=\"sk-estimator-id-12\" type=\"checkbox\" ><label for=\"sk-estimator-id-12\" class=\"sk-toggleable__label fitted sk-toggleable__label-arrow\"><div><div>cat</div></div></label><div class=\"sk-toggleable__content fitted\"><pre>[&#x27;batter&#x27;, &#x27;bowler&#x27;, &#x27;non_striker&#x27;, &#x27;venue&#x27;, &#x27;team1&#x27;, &#x27;team2&#x27;]</pre></div> </div></div><div class=\"sk-serial\"><div class=\"sk-item\"><div class=\"sk-estimator fitted sk-toggleable\"><input class=\"sk-toggleable__control sk-hidden--visually\" id=\"sk-estimator-id-13\" type=\"checkbox\" ><label for=\"sk-estimator-id-13\" class=\"sk-toggleable__label fitted sk-toggleable__label-arrow\"><div><div>OneHotEncoder</div></div><div><a class=\"sk-estimator-doc-link fitted\" rel=\"noreferrer\" target=\"_blank\" href=\"https://scikit-learn.org/1.6/modules/generated/sklearn.preprocessing.OneHotEncoder.html\">?<span>Documentation for OneHotEncoder</span></a></div></label><div class=\"sk-toggleable__content fitted\"><pre>OneHotEncoder(handle_unknown=&#x27;ignore&#x27;)</pre></div> </div></div></div></div></div></div></div><div class=\"sk-item\"><div class=\"sk-estimator fitted sk-toggleable\"><input class=\"sk-toggleable__control sk-hidden--visually\" id=\"sk-estimator-id-14\" type=\"checkbox\" ><label for=\"sk-estimator-id-14\" class=\"sk-toggleable__label fitted sk-toggleable__label-arrow\"><div><div>Ridge</div></div><div><a class=\"sk-estimator-doc-link fitted\" rel=\"noreferrer\" target=\"_blank\" href=\"https://scikit-learn.org/1.6/modules/generated/sklearn.linear_model.Ridge.html\">?<span>Documentation for Ridge</span></a></div></label><div class=\"sk-toggleable__content fitted\"><pre>Ridge(alpha=100)</pre></div> </div></div></div></div></div></div>"
      ],
      "text/plain": [
       "Pipeline(steps=[('preprocessor',\n",
       "                 ColumnTransformer(transformers=[('num', StandardScaler(),\n",
       "                                                  ['season', 'balls_count',\n",
       "                                                   'strike_rate']),\n",
       "                                                 ('cat',\n",
       "                                                  OneHotEncoder(handle_unknown='ignore'),\n",
       "                                                  ['batter', 'bowler',\n",
       "                                                   'non_striker', 'venue',\n",
       "                                                   'team1', 'team2'])])),\n",
       "                ('regressor', Ridge(alpha=100))])"
      ]
     },
     "execution_count": 40,
     "metadata": {},
     "output_type": "execute_result"
    }
   ],
   "source": [
    "# Train the model\n",
    "pipeline.fit(X_test, y_test)"
   ]
  },
  {
   "cell_type": "code",
   "execution_count": 41,
   "id": "UzEd3Vhm6wWj",
   "metadata": {
    "colab": {
     "base_uri": "https://localhost:8080/"
    },
    "executionInfo": {
     "elapsed": 32,
     "status": "ok",
     "timestamp": 1733913549201,
     "user": {
      "displayName": "siddhesh gade",
      "userId": "17841006909022864837"
     },
     "user_tz": -330
    },
    "id": "UzEd3Vhm6wWj",
    "outputId": "72a1153d-3ea2-45c1-f14a-ed0519c27784"
   },
   "outputs": [
    {
     "name": "stdout",
     "output_type": "stream",
     "text": [
      "R² Score: 0.8581\n",
      "Mean Squared Error: 3.5164\n"
     ]
    }
   ],
   "source": [
    "# Make predictions\n",
    "y_pred = pipeline.predict(X_test)\n",
    "\n",
    "# Evaluate the model\n",
    "r2 = r2_score(y_test, y_pred)\n",
    "mse = mean_squared_error(y_test, y_pred)\n",
    "print(f\"R² Score: {r2:.4f}\")\n",
    "print(f\"Mean Squared Error: {mse:.4f}\")"
   ]
  },
  {
   "cell_type": "code",
   "execution_count": 42,
   "id": "6lHrekFV6TOT",
   "metadata": {
    "executionInfo": {
     "elapsed": 788,
     "status": "ok",
     "timestamp": 1733913618182,
     "user": {
      "displayName": "siddhesh gade",
      "userId": "17841006909022864837"
     },
     "user_tz": -330
    },
    "id": "6lHrekFV6TOT"
   },
   "outputs": [],
   "source": [
    "import pickle\n",
    "pickle.dump(pipeline,open('C:\\Personal project\\IPL/Batter.pkl','wb'))"
   ]
  },
  {
   "cell_type": "code",
   "execution_count": 43,
   "id": "1c0e0e95",
   "metadata": {},
   "outputs": [],
   "source": [
    "df.to_csv(r\"C:\\Personal project\\IPL\\final_data.csv\")"
   ]
  },
  {
   "cell_type": "code",
   "execution_count": 44,
   "id": "7eobGDnxuyR5",
   "metadata": {
    "colab": {
     "base_uri": "https://localhost:8080/",
     "height": 147
    },
    "executionInfo": {
     "elapsed": 840,
     "status": "ok",
     "timestamp": 1733913627932,
     "user": {
      "displayName": "siddhesh gade",
      "userId": "17841006909022864837"
     },
     "user_tz": -330
    },
    "id": "7eobGDnxuyR5",
    "outputId": "3ce57540-1e75-4d51-f95f-b665611c4132"
   },
   "outputs": [
    {
     "data": {
      "text/html": [
       "<div>\n",
       "<style scoped>\n",
       "    .dataframe tbody tr th:only-of-type {\n",
       "        vertical-align: middle;\n",
       "    }\n",
       "\n",
       "    .dataframe tbody tr th {\n",
       "        vertical-align: top;\n",
       "    }\n",
       "\n",
       "    .dataframe thead th {\n",
       "        text-align: right;\n",
       "    }\n",
       "</style>\n",
       "<table border=\"1\" class=\"dataframe\">\n",
       "  <thead>\n",
       "    <tr style=\"text-align: right;\">\n",
       "      <th></th>\n",
       "      <th>batter</th>\n",
       "      <th>bowler</th>\n",
       "      <th>non_striker</th>\n",
       "      <th>venue</th>\n",
       "      <th>season</th>\n",
       "      <th>team1</th>\n",
       "      <th>team2</th>\n",
       "      <th>total_runs</th>\n",
       "      <th>balls_count</th>\n",
       "      <th>wickets_by_bowler</th>\n",
       "      <th>strike_rate</th>\n",
       "    </tr>\n",
       "  </thead>\n",
       "  <tbody>\n",
       "    <tr>\n",
       "      <th>2024</th>\n",
       "      <td>AC Gilchrist</td>\n",
       "      <td>RR Powar</td>\n",
       "      <td>Rohit Sharma</td>\n",
       "      <td>Punjab Cricket Association Stadium, Mohali</td>\n",
       "      <td>2008</td>\n",
       "      <td>Punjab Kings</td>\n",
       "      <td>Sunrisers Hyderabad</td>\n",
       "      <td>2</td>\n",
       "      <td>4</td>\n",
       "      <td>1</td>\n",
       "      <td>50.0</td>\n",
       "    </tr>\n",
       "  </tbody>\n",
       "</table>\n",
       "</div>"
      ],
      "text/plain": [
       "            batter    bowler   non_striker  \\\n",
       "2024  AC Gilchrist  RR Powar  Rohit Sharma   \n",
       "\n",
       "                                           venue season         team1  \\\n",
       "2024  Punjab Cricket Association Stadium, Mohali   2008  Punjab Kings   \n",
       "\n",
       "                    team2  total_runs  balls_count  wickets_by_bowler  \\\n",
       "2024  Sunrisers Hyderabad           2            4                  1   \n",
       "\n",
       "      strike_rate  \n",
       "2024         50.0  "
      ]
     },
     "execution_count": 44,
     "metadata": {},
     "output_type": "execute_result"
    }
   ],
   "source": [
    "df.sample(1)"
   ]
  },
  {
   "cell_type": "markdown",
   "id": "86701b43",
   "metadata": {},
   "source": [
    "### **output check code for batter**"
   ]
  },
  {
   "cell_type": "code",
   "execution_count": 45,
   "id": "g5NOtvICG5pQ",
   "metadata": {
    "colab": {
     "base_uri": "https://localhost:8080/"
    },
    "executionInfo": {
     "elapsed": 77045,
     "status": "ok",
     "timestamp": 1733913706602,
     "user": {
      "displayName": "siddhesh gade",
      "userId": "17841006909022864837"
     },
     "user_tz": -330
    },
    "id": "g5NOtvICG5pQ",
    "outputId": "257e3e3c-6d62-49ee-d507-cbc9eb8449f0"
   },
   "outputs": [],
   "source": [
    "# batter_name=input(\"Enter batter name: \")\n",
    "# bowler_name=input(\"Enter bowler name: \")\n",
    "# non_striker_name=input(\"Enter non striker name: \")\n",
    "# venue_name=input(\"Enter venue name: \")\n",
    "# season=input(\"Enter season name: \")\n",
    "# team1_name=input(\"Enter team1 name: \")\n",
    "# team2_name=input(\"Enter team2 name: \")\n",
    "# balls_count=int(input(\"Enter balls count: \"))\n",
    "# strike_rate=float(input(\"Enter strike rate: \"))"
   ]
  },
  {
   "cell_type": "code",
   "execution_count": 46,
   "id": "D6ftRNFnBS53",
   "metadata": {
    "executionInfo": {
     "elapsed": 855,
     "status": "ok",
     "timestamp": 1733913751737,
     "user": {
      "displayName": "siddhesh gade",
      "userId": "17841006909022864837"
     },
     "user_tz": -330
    },
    "id": "D6ftRNFnBS53"
   },
   "outputs": [],
   "source": [
    "# # Load the saved model\n",
    "# pipe = pickle.load(open('C:\\Personal project\\IPL\\Batter.pkl', 'rb'))\n",
    "\n",
    "# # Create a test input as a DataFrame with the required column names\n",
    "# batter_input = pd.DataFrame(\n",
    "#     data=[[batter_name,bowler_name,non_striker_name,venue_name,season,team1_name,team2_name,balls_count,strike_rate]],\n",
    "#     columns=['batter', 'bowler', 'non_striker', 'venue', 'season', 'team1', 'team2',\n",
    "#              'balls_count', 'strike_rate']\n",
    "# )"
   ]
  },
  {
   "cell_type": "code",
   "execution_count": 47,
   "id": "SHgg4ZQ7BSxi",
   "metadata": {
    "colab": {
     "base_uri": "https://localhost:8080/"
    },
    "executionInfo": {
     "elapsed": 509,
     "status": "ok",
     "timestamp": 1733913754984,
     "user": {
      "displayName": "siddhesh gade",
      "userId": "17841006909022864837"
     },
     "user_tz": -330
    },
    "id": "SHgg4ZQ7BSxi",
    "outputId": "fbae00eb-3799-43db-878d-292186c6a447"
   },
   "outputs": [],
   "source": [
    "# Predict the total runs\n",
    "# prediction = pipe.predict(batter_input)\n",
    "# print(\"Predicted Total Runs:\", int(prediction[0]))"
   ]
  },
  {
   "cell_type": "markdown",
   "id": "48af0901",
   "metadata": {},
   "source": [
    "### **output check code for Bolwer**"
   ]
  },
  {
   "cell_type": "code",
   "execution_count": 48,
   "id": "h5spAARxKize",
   "metadata": {
    "executionInfo": {
     "elapsed": 612,
     "status": "ok",
     "timestamp": 1733913762874,
     "user": {
      "displayName": "siddhesh gade",
      "userId": "17841006909022864837"
     },
     "user_tz": -330
    },
    "id": "h5spAARxKize"
   },
   "outputs": [],
   "source": [
    "# # Define features and target\n",
    "# X = df[['batter', 'bowler', 'non_striker', 'venue', 'season', 'team1', 'team2', 'total_runs', 'balls_count']]\n",
    "# y = df['wickets_by_bowler']"
   ]
  },
  {
   "cell_type": "code",
   "execution_count": 49,
   "id": "yyBuskgMKiv9",
   "metadata": {
    "executionInfo": {
     "elapsed": 4,
     "status": "ok",
     "timestamp": 1733913765143,
     "user": {
      "displayName": "siddhesh gade",
      "userId": "17841006909022864837"
     },
     "user_tz": -330
    },
    "id": "yyBuskgMKiv9"
   },
   "outputs": [],
   "source": [
    "# Binarize target variable (optional, depending on the problem)\n",
    "# y = (y > 0).astype(int)"
   ]
  },
  {
   "cell_type": "code",
   "execution_count": 50,
   "id": "mqCdSWc0Kisl",
   "metadata": {
    "executionInfo": {
     "elapsed": 810,
     "status": "ok",
     "timestamp": 1733913766628,
     "user": {
      "displayName": "siddhesh gade",
      "userId": "17841006909022864837"
     },
     "user_tz": -330
    },
    "id": "mqCdSWc0Kisl"
   },
   "outputs": [],
   "source": [
    "# Split data\n",
    "# X_train, X_test, y_train, y_test = train_test_split(X, y, test_size=0.2, random_state=42)\n"
   ]
  },
  {
   "cell_type": "code",
   "execution_count": 51,
   "id": "yN9xyeEUKipA",
   "metadata": {
    "executionInfo": {
     "elapsed": 4,
     "status": "ok",
     "timestamp": 1733913768929,
     "user": {
      "displayName": "siddhesh gade",
      "userId": "17841006909022864837"
     },
     "user_tz": -330
    },
    "id": "yN9xyeEUKipA"
   },
   "outputs": [],
   "source": [
    "# # Define preprocessing\n",
    "# categorical_cols = ['batter', 'bowler', 'non_striker', 'venue', 'team1', 'team2','season']\n",
    "# numerical_cols = ['total_runs', 'balls_count']\n",
    "\n",
    "# preprocessor = ColumnTransformer(\n",
    "#     transformers=[\n",
    "#         ('num', StandardScaler(), numerical_cols),\n",
    "#         ('cat', OneHotEncoder(handle_unknown='ignore'), categorical_cols)\n",
    "#     ]\n",
    "# )\n",
    "\n",
    "# # Create RidgeClassifier pipeline\n",
    "# pipeline = Pipeline(steps=[\n",
    "#     ('preprocessor', preprocessor),\n",
    "#     ('classifier', RidgeClassifier(alpha=10))\n",
    "# ])\n"
   ]
  },
  {
   "cell_type": "code",
   "execution_count": 52,
   "id": "7b214a19",
   "metadata": {},
   "outputs": [],
   "source": [
    "# param_grid = {\n",
    "#     'classifier__alpha': [0.1, 1.0, 10.0]  # Regularization strength\n",
    "# }"
   ]
  },
  {
   "cell_type": "code",
   "execution_count": 53,
   "id": "1ZHBBhHuKq63",
   "metadata": {
    "colab": {
     "base_uri": "https://localhost:8080/",
     "height": 253
    },
    "executionInfo": {
     "elapsed": 8041,
     "status": "ok",
     "timestamp": 1733913802158,
     "user": {
      "displayName": "siddhesh gade",
      "userId": "17841006909022864837"
     },
     "user_tz": -330
    },
    "id": "1ZHBBhHuKq63",
    "outputId": "49fd6577-b916-4db7-cd39-97fdd2e95922"
   },
   "outputs": [],
   "source": [
    "# grid_search = GridSearchCV(pipeline, param_grid, cv=5, scoring='accuracy', n_jobs=-1)\n",
    "# grid_search.fit(X_train, y_train)"
   ]
  },
  {
   "cell_type": "code",
   "execution_count": 54,
   "id": "Qar6eMcNKq38",
   "metadata": {
    "colab": {
     "base_uri": "https://localhost:8080/"
    },
    "executionInfo": {
     "elapsed": 626,
     "status": "ok",
     "timestamp": 1733913804783,
     "user": {
      "displayName": "siddhesh gade",
      "userId": "17841006909022864837"
     },
     "user_tz": -330
    },
    "id": "Qar6eMcNKq38",
    "outputId": "2a3c36e7-bf0c-439f-f9f1-6e3e92db9739"
   },
   "outputs": [],
   "source": [
    "# Test set performance\n",
    "# y_pred = grid_search.best_estimator_.predict(X_test)\n",
    "# print(\"\\nClassification Report:\\n\", classification_report(y_test, y_pred))\n",
    "# print(\"Accuracy on test set:\", accuracy_score(y_test, y_pred))\n"
   ]
  },
  {
   "cell_type": "code",
   "execution_count": 55,
   "id": "mjYZpNciLFjL",
   "metadata": {
    "executionInfo": {
     "elapsed": 601,
     "status": "ok",
     "timestamp": 1733913828250,
     "user": {
      "displayName": "siddhesh gade",
      "userId": "17841006909022864837"
     },
     "user_tz": -330
    },
    "id": "mjYZpNciLFjL"
   },
   "outputs": [],
   "source": [
    "# import pickle\n",
    "# pickle.dump(grid_search,open('C:\\Personal project\\IPL/Bowler.pkl.pkl','wb'))"
   ]
  },
  {
   "cell_type": "code",
   "execution_count": 56,
   "id": "58xZ4SY-N0GI",
   "metadata": {
    "colab": {
     "base_uri": "https://localhost:8080/"
    },
    "executionInfo": {
     "elapsed": 6848,
     "status": "ok",
     "timestamp": 1733913837346,
     "user": {
      "displayName": "siddhesh gade",
      "userId": "17841006909022864837"
     },
     "user_tz": -330
    },
    "id": "58xZ4SY-N0GI",
    "outputId": "4a60bae1-fb2d-46ec-e37e-f400a72edf9f"
   },
   "outputs": [],
   "source": [
    "# total_runs=int(input(\"Enter total runs: \"))"
   ]
  },
  {
   "cell_type": "code",
   "execution_count": 57,
   "id": "jy6hKnP6LFfG",
   "metadata": {
    "executionInfo": {
     "elapsed": 4,
     "status": "ok",
     "timestamp": 1733913910274,
     "user": {
      "displayName": "siddhesh gade",
      "userId": "17841006909022864837"
     },
     "user_tz": -330
    },
    "id": "jy6hKnP6LFfG"
   },
   "outputs": [],
   "source": [
    "# # Load the saved model\n",
    "# pipe = pickle.load(open('C:\\Personal project\\IPL/Bowler.pkl.pkl', 'rb'))\n",
    "\n",
    "# # Create a test input as a DataFrame with the required column names\n",
    "# bowler_input = pd.DataFrame(\n",
    "#     data=[[batter_name,bowler_name,non_striker_name,venue_name,season,team1_name,team2_name,total_runs,balls_count,strike_rate]],\n",
    "#     columns=['batter', 'bowler', 'non_striker', 'venue', 'season', 'team1', 'team2','total_runs',\n",
    "#              'balls_count', 'strike_rate']\n",
    "# )"
   ]
  },
  {
   "cell_type": "code",
   "execution_count": 58,
   "id": "nwIbn4qNLFZQ",
   "metadata": {
    "colab": {
     "base_uri": "https://localhost:8080/"
    },
    "executionInfo": {
     "elapsed": 6,
     "status": "ok",
     "timestamp": 1733913912392,
     "user": {
      "displayName": "siddhesh gade",
      "userId": "17841006909022864837"
     },
     "user_tz": -330
    },
    "id": "nwIbn4qNLFZQ",
    "outputId": "95dd32d2-b36c-4d2d-cadc-502137db533b"
   },
   "outputs": [],
   "source": [
    "# # Predict the total wicket\n",
    "# prediction = pipe.predict(bowler_input)\n",
    "# print(\"Predicted wicket:\", prediction[0])"
   ]
  },
  {
   "cell_type": "markdown",
   "id": "fyiP07uc6M6z",
   "metadata": {
    "id": "fyiP07uc6M6z"
   },
   "source": [
    "__________________________________________________________________________________________________________________________________________________________________________________________________________________________________________________________________________________________________________________\n",
    "\n"
   ]
  },
  {
   "cell_type": "markdown",
   "id": "Z7ZzQMRA5dUI",
   "metadata": {
    "id": "Z7ZzQMRA5dUI"
   },
   "source": [
    "### *Hyper ParaMeter tuning*"
   ]
  },
  {
   "cell_type": "code",
   "execution_count": 59,
   "id": "vpg43FiF4tTb",
   "metadata": {
    "executionInfo": {
     "elapsed": 22,
     "status": "aborted",
     "timestamp": 1733913583433,
     "user": {
      "displayName": "siddhesh gade",
      "userId": "17841006909022864837"
     },
     "user_tz": -330
    },
    "id": "vpg43FiF4tTb"
   },
   "outputs": [],
   "source": [
    "# # Example categorical and numerical columns\n",
    "# categorical_cols = ['batter', 'bowler', 'non_striker', 'venue', 'team1', 'team2']\n",
    "# numerical_cols = ['season', 'balls_count', 'strike_rate']\n",
    "\n",
    "# # Define preprocessor\n",
    "# preprocessor = ColumnTransformer(\n",
    "#     transformers=[\n",
    "#         ('num', StandardScaler(), numerical_cols),\n",
    "#         ('cat', OneHotEncoder(handle_unknown='ignore'), categorical_cols)\n",
    "#     ]\n",
    "# )\n",
    "\n",
    "# # Create pipeline\n",
    "# pipeline = Pipeline(steps=[\n",
    "#     ('preprocessor', preprocessor),\n",
    "#     ('regressor', Ridge())  # Ridge Regression placeholder\n",
    "# ])\n"
   ]
  },
  {
   "cell_type": "code",
   "execution_count": 60,
   "id": "RkEbAxtqxgSw",
   "metadata": {
    "executionInfo": {
     "elapsed": 21,
     "status": "aborted",
     "timestamp": 1733913583433,
     "user": {
      "displayName": "siddhesh gade",
      "userId": "17841006909022864837"
     },
     "user_tz": -330
    },
    "id": "RkEbAxtqxgSw"
   },
   "outputs": [],
   "source": [
    "# # Define parameter grid for Ridge Regression\n",
    "# param_grid = {\n",
    "#     'regressor__alpha': [0.01, 0.1, 1.0, 10, 100]  # Regularization strength\n",
    "# }\n",
    "\n",
    "# # Split data\n",
    "# X = df[['batter', 'bowler', 'non_striker', 'venue', 'season', 'team1', 'team2',\n",
    "#         'balls_count', 'strike_rate']]\n",
    "# y = df['total_runs']\n",
    "\n",
    "# X_train, X_test, y_train, y_test = train_test_split(X, y, test_size=0.2, random_state=42)\n",
    "\n",
    "# # Set up GridSearchCV\n",
    "# grid_search = GridSearchCV(\n",
    "#     estimator=pipeline,\n",
    "#     param_grid=param_grid,\n",
    "#     cv=5,\n",
    "#     scoring='r2',\n",
    "#     verbose=2,\n",
    "#     n_jobs=-1\n",
    "# )\n"
   ]
  },
  {
   "cell_type": "code",
   "execution_count": 61,
   "id": "PlF4xqns4o0k",
   "metadata": {
    "executionInfo": {
     "elapsed": 21,
     "status": "aborted",
     "timestamp": 1733913583433,
     "user": {
      "displayName": "siddhesh gade",
      "userId": "17841006909022864837"
     },
     "user_tz": -330
    },
    "id": "PlF4xqns4o0k"
   },
   "outputs": [],
   "source": [
    "# # Fit the model with GridSearch\n",
    "# grid_search.fit(X_train, y_train)\n",
    "\n",
    "# # Output best parameters and best score\n",
    "# print(\"Best Parameters:\", grid_search.best_params_)\n",
    "# print(\"Best Cross-Validation R² Score:\", grid_search.best_score_)\n",
    "\n",
    "# # Evaluate on test set\n",
    "# best_model = grid_search.best_estimator_\n",
    "# y_pred = best_model.predict(X_test)\n",
    "\n",
    "# # Evaluate the model's performance\n",
    "# print(\"Test R²:\", r2_score(y_test, y_pred))\n",
    "# print(\"Test Mean Squared Error:\", mean_squared_error(y_test, y_pred))\n"
   ]
  },
  {
   "cell_type": "markdown",
   "id": "KHgQogMO4O21",
   "metadata": {
    "id": "KHgQogMO4O21"
   },
   "source": [
    "__________________________________________________________________________________________________________________________________________________________________________________________________________________________________________________________________________________________________________________\n",
    "\n"
   ]
  }
 ],
 "metadata": {
  "colab": {
   "provenance": []
  },
  "kernelspec": {
   "display_name": "env",
   "language": "python",
   "name": "python3"
  },
  "language_info": {
   "codemirror_mode": {
    "name": "ipython",
    "version": 3
   },
   "file_extension": ".py",
   "mimetype": "text/x-python",
   "name": "python",
   "nbconvert_exporter": "python",
   "pygments_lexer": "ipython3",
   "version": "3.12.7"
  }
 },
 "nbformat": 4,
 "nbformat_minor": 5
}
